{
  "nbformat": 4,
  "nbformat_minor": 0,
  "metadata": {
    "colab": {
      "provenance": [],
      "authorship_tag": "ABX9TyMAPMctAoT3atxEtTc2TirI",
      "include_colab_link": true
    },
    "kernelspec": {
      "name": "python3",
      "display_name": "Python 3"
    },
    "language_info": {
      "name": "python"
    }
  },
  "cells": [
    {
      "cell_type": "markdown",
      "metadata": {
        "id": "view-in-github",
        "colab_type": "text"
      },
      "source": [
        "<a href=\"https://colab.research.google.com/github/DevaSunder/Coding-works/blob/main/CompSecu.ipynb\" target=\"_parent\"><img src=\"https://colab.research.google.com/assets/colab-badge.svg\" alt=\"Open In Colab\"/></a>"
      ]
    },
    {
      "cell_type": "markdown",
      "source": [
        "## SQL Injection Implementation and Taint Analysis to solve the problem"
      ],
      "metadata": {
        "id": "iTOjp2EzKEv9"
      }
    },
    {
      "cell_type": "markdown",
      "source": [
        "#### The **pysqlite3** package is a Python interface for SQLite databases. It allows you to interact with SQLite databases using Python code. "
      ],
      "metadata": {
        "id": "m1bVlTgFKTCg"
      }
    },
    {
      "cell_type": "code",
      "execution_count": null,
      "metadata": {
        "colab": {
          "base_uri": "https://localhost:8080/"
        },
        "id": "QHwuAomfi1OI",
        "outputId": "d7d584be-ee7a-4a29-b319-32abf09e591c"
      },
      "outputs": [
        {
          "output_type": "stream",
          "name": "stdout",
          "text": [
            "Looking in indexes: https://pypi.org/simple, https://us-python.pkg.dev/colab-wheels/public/simple/\n",
            "Collecting pysqlite3\n",
            "  Downloading pysqlite3-0.5.0.tar.gz (40 kB)\n",
            "\u001b[2K     \u001b[90m━━━━━━━━━━━━━━━━━━━━━━━━━━━━━━━━━━━━━━━━\u001b[0m \u001b[32m40.1/40.1 kB\u001b[0m \u001b[31m3.2 MB/s\u001b[0m eta \u001b[36m0:00:00\u001b[0m\n",
            "\u001b[?25h  Preparing metadata (setup.py) ... \u001b[?25l\u001b[?25hdone\n",
            "Building wheels for collected packages: pysqlite3\n",
            "  Building wheel for pysqlite3 (setup.py) ... \u001b[?25l\u001b[?25hdone\n",
            "  Created wheel for pysqlite3: filename=pysqlite3-0.5.0-cp310-cp310-linux_x86_64.whl size=162340 sha256=819011e542fe12e1b5df189f3fbf6a92a6edc734c34508775091954d977ca4f5\n",
            "  Stored in directory: /root/.cache/pip/wheels/63/4e/34/5a90d9770b5fbf518f7a5da144c558f1c545935ad2eec9cf82\n",
            "Successfully built pysqlite3\n",
            "Installing collected packages: pysqlite3\n",
            "Successfully installed pysqlite3-0.5.0\n"
          ]
        }
      ],
      "source": [
        "! pip install pysqlite3\n"
      ]
    },
    {
      "cell_type": "markdown",
      "source": [
        "### Drop any **existing** tables"
      ],
      "metadata": {
        "id": "Il0wUr3zKlcR"
      }
    },
    {
      "cell_type": "code",
      "source": [
        "import sqlite3\n",
        "\n",
        "# Connect to the database\n",
        "conn = sqlite3.connect('example.db')\n",
        "c = conn.cursor()\n",
        "\n",
        "# Drop the table if it exists\n",
        "c.execute(\"DROP TABLE IF EXISTS users\")\n",
        "\n",
        "# Commit the changes to the database\n",
        "conn.commit()\n",
        "\n",
        "# Close the database connection\n",
        "conn.close()\n"
      ],
      "metadata": {
        "id": "emMJg4FdnJgw"
      },
      "execution_count": 7,
      "outputs": []
    },
    {
      "cell_type": "markdown",
      "source": [
        "### Creating new table and inserting the **username and passwords** for all the users"
      ],
      "metadata": {
        "id": "g1q4bxNTKyFi"
      }
    },
    {
      "cell_type": "code",
      "source": [
        "import sqlite3\n",
        "\n",
        "# Connect to the database (creates a new database if it doesn't exist)\n",
        "conn = sqlite3.connect('example.db')\n",
        "\n",
        "# Create a cursor object to execute SQL queries\n",
        "c = conn.cursor()\n",
        "\n",
        "# Create a table\n",
        "c.execute('''CREATE TABLE users\n",
        "             (id INTEGER PRIMARY KEY, username TEXT, password TEXT)''')\n",
        "\n",
        "# Insert some data into the table\n",
        "c.execute(\"INSERT INTO users (username, password) VALUES ('DevaSunder', 'Pass123word')\")\n",
        "c.execute(\"INSERT INTO users (username, password) VALUES ('Nithin', 'Speednithin')\")\n",
        "c.execute(\"INSERT INTO users (username, password) VALUES ('Arthi', 'Flower123base')\")\n",
        "c.execute(\"INSERT INTO users (username, password) VALUES ('Sarvesh', 'Ronaldo_Rocks')\")\n",
        "c.execute(\"INSERT INTO users (username, password) VALUES ('Shree', 'Sun999Flower')\")\n",
        "c.execute(\"INSERT INTO users (username, password) VALUES ('Maxet', 'Vikas123')\")\n",
        "c.execute(\"INSERT INTO users (username, password) VALUES ('English', 'Dave9489')\")\n",
        "c.execute(\"INSERT INTO users (username, password) VALUES ('dave', 'passwordabc')\")\n",
        "c.execute(\"INSERT INTO users (username, password) VALUES ('Karadi', 'Peter')\")\n",
        "\n",
        "# Commit the changes to the database\n",
        "conn.commit()\n",
        "\n",
        "# Close the database connection\n",
        "conn.close()\n"
      ],
      "metadata": {
        "id": "6UP5nOQEi7PE"
      },
      "execution_count": 8,
      "outputs": []
    },
    {
      "cell_type": "markdown",
      "source": [
        "### Displaying the current database"
      ],
      "metadata": {
        "id": "lQu8is4lK74p"
      }
    },
    {
      "cell_type": "code",
      "source": [
        "import sqlite3\n",
        "\n",
        "# Connect to the database\n",
        "conn = sqlite3.connect('example.db')\n",
        "c = conn.cursor()\n",
        "\n",
        "# Execute a SELECT query to retrieve all rows from the table\n",
        "c.execute(\"SELECT * FROM users\")\n",
        "\n",
        "# Fetch all rows and print them\n",
        "rows = c.fetchall()\n",
        "for row in rows:\n",
        "    print(row)\n",
        "\n",
        "# Close the database connection\n",
        "conn.close()\n"
      ],
      "metadata": {
        "colab": {
          "base_uri": "https://localhost:8080/"
        },
        "id": "Gv3Z-sKLkSAU",
        "outputId": "410fea9f-351c-40d5-942e-d260e6e20faa"
      },
      "execution_count": 13,
      "outputs": [
        {
          "output_type": "stream",
          "name": "stdout",
          "text": [
            "(1, 'DevaSunder', 'Pass123word')\n",
            "(2, 'Nithin', 'Speednithin')\n",
            "(3, 'Arthi', 'Flower123base')\n",
            "(4, 'Sarvesh', 'Ronaldo_Rocks')\n",
            "(5, 'Shree', 'Sun999Flower')\n",
            "(6, 'Maxet', 'Vikas123')\n",
            "(7, 'English', 'Dave9489')\n",
            "(8, 'dave', 'passwordabc')\n",
            "(9, 'Karadi', 'Peter')\n"
          ]
        }
      ]
    },
    {
      "cell_type": "markdown",
      "source": [
        "### *Normal* SQL Query to check if the **username and password** entered matches with the database"
      ],
      "metadata": {
        "id": "FPg_25imLCCm"
      }
    },
    {
      "cell_type": "code",
      "source": [
        "import sqlite3\n",
        "\n",
        "# Connect to the database\n",
        "conn = sqlite3.connect('example.db')\n",
        "c = conn.cursor()\n",
        "\n",
        "# Normal query\n",
        "username = 'DevaSunder'\n",
        "password = 'Pass123word'\n",
        "query = \"SELECT * FROM users WHERE username = ? AND password = ?\"\n",
        "params = (username, password)\n",
        "c.execute(query, params)\n",
        "print(c.fetchall())\n",
        "\n",
        "\n"
      ],
      "metadata": {
        "id": "EkZcbLXZkkIZ",
        "colab": {
          "base_uri": "https://localhost:8080/"
        },
        "outputId": "8ca1157e-1617-4b3d-eb13-03d824ba59e2"
      },
      "execution_count": 24,
      "outputs": [
        {
          "output_type": "stream",
          "name": "stdout",
          "text": [
            "[(1, 'DevaSunder', 'Pass123word')]\n"
          ]
        }
      ]
    },
    {
      "cell_type": "markdown",
      "source": [
        "### Tainted SQL Query where the **username and password** are *tainted* . We can see below that the system logs the user in irrespective of the username and password enterned. We can see that the username is given as **\"' OR 1=1 --\"**"
      ],
      "metadata": {
        "id": "z0kD4sc0LQsp"
      }
    },
    {
      "cell_type": "code",
      "source": [
        "import sqlite3\n",
        "\n",
        "# Establish the database connection\n",
        "conn = sqlite3.connect(\"example.db\")\n",
        "c = conn.cursor()\n",
        "\n",
        "# Get user input\n",
        "username = input(\"Enter your username: \")\n",
        "password = input(\"Enter your password: \")\n",
        "\n",
        "username = \"' OR 1=1 --\" ## BAD Query\n",
        "# Construct the SQL query (vulnerable to SQL injection)\n",
        "query = \"SELECT * FROM users WHERE username = '\" + username + \"' AND password = '\" + password + \"'\"\n",
        "\n",
        "# Execute the query\n",
        "c.execute(query)\n",
        "\n",
        "# Check if the user is authenticated\n",
        "result = c.fetchall()\n",
        "if len(result) > 0:\n",
        "    print(\"Authentication successful!\")\n",
        "else:\n",
        "    print(\"Authentication failed!\")\n",
        "\n",
        "# Close the database connection\n",
        "conn.close()\n"
      ],
      "metadata": {
        "colab": {
          "base_uri": "https://localhost:8080/"
        },
        "id": "AEcK7Xv6DrS9",
        "outputId": "2e92506f-1e4a-4807-bf36-a0d94a013b7b"
      },
      "execution_count": 28,
      "outputs": [
        {
          "output_type": "stream",
          "name": "stdout",
          "text": [
            "Enter your username: dcsdew\n",
            "Enter your password: hackea\n",
            "Authentication successful!\n"
          ]
        }
      ]
    },
    {
      "cell_type": "markdown",
      "source": [
        "### We have implemented tainted analysis where the query entering is checked for any bad modification."
      ],
      "metadata": {
        "id": "3pwjx7muLzex"
      }
    },
    {
      "cell_type": "markdown",
      "source": [
        "#### NORMAL INPUT"
      ],
      "metadata": {
        "id": "e4sK5pCIMCus"
      }
    },
    {
      "cell_type": "code",
      "source": [
        "import re\n",
        "\n",
        "def is_tainted(input_str):\n",
        "    # Define the patterns for SQL injection detection\n",
        "    patterns = [\n",
        "        r\"(\\bOR\\b|\\bAND\\b|\\bUNION\\b|\\bSELECT\\b|\\bINSERT\\b|\\bUPDATE\\b|\\bDELETE\\b|\\bDROP\\b)\",\n",
        "        r\"[\\\"'][^\\\"'\\\\]*(?:\\\\.[^\\\"'\\\\]*)*[\\\"']\"\n",
        "    ]\n",
        "\n",
        "    for pattern in patterns:\n",
        "        if re.search(pattern, input_str, re.IGNORECASE):\n",
        "            return True\n",
        "    \n",
        "    return False\n",
        "\n",
        "# Get user input\n",
        "username = input(\"Enter your username: \")\n",
        "password = input(\"Enter your password: \")\n",
        "\n",
        "# Perform taint analysis\n",
        "if is_tainted(username) or is_tainted(password):\n",
        "    print(\"Potential SQL injection detected!\")\n",
        "else:\n",
        "    print(\"No potential SQL injection detected.\")\n"
      ],
      "metadata": {
        "colab": {
          "base_uri": "https://localhost:8080/"
        },
        "id": "f5dPumOPHAIK",
        "outputId": "d7bec275-192c-47bc-d658-31f2da752a37"
      },
      "execution_count": 29,
      "outputs": [
        {
          "output_type": "stream",
          "name": "stdout",
          "text": [
            "Enter your username: deasd\n",
            "Enter your password: g\n",
            "No potential SQL injection detected.\n"
          ]
        }
      ]
    },
    {
      "cell_type": "markdown",
      "source": [
        "#### TAINTED INPUT"
      ],
      "metadata": {
        "id": "6GJwRdgAMGxA"
      }
    },
    {
      "cell_type": "code",
      "source": [
        "import re\n",
        "\n",
        "def is_tainted(input_str):\n",
        "    # Define the patterns for SQL injection detection\n",
        "    patterns = [\n",
        "        r\"(\\bOR\\b|\\bAND\\b|\\bUNION\\b|\\bSELECT\\b|\\bINSERT\\b|\\bUPDATE\\b|\\bDELETE\\b|\\bDROP\\b)\",\n",
        "        r\"[\\\"'][^\\\"'\\\\]*(?:\\\\.[^\\\"'\\\\]*)*[\\\"']\"\n",
        "    ]\n",
        "\n",
        "    for pattern in patterns:\n",
        "        if re.search(pattern, input_str, re.IGNORECASE):\n",
        "            return True\n",
        "    \n",
        "    return False\n",
        "\n",
        "# Get user input\n",
        "username = input(\"Enter your username: \")\n",
        "password = input(\"Enter your password: \")\n",
        "\n",
        "# Perform taint analysis\n",
        "if is_tainted(username) or is_tainted(password):\n",
        "    print(\"Potential SQL injection detected!\")\n",
        "else:\n",
        "    print(\"No potential SQL injection detected.\")\n"
      ],
      "metadata": {
        "colab": {
          "base_uri": "https://localhost:8080/"
        },
        "id": "3-46iPEKJIwh",
        "outputId": "1ee4bb3d-b2c8-40eb-9d35-cc070497d34c"
      },
      "execution_count": 31,
      "outputs": [
        {
          "output_type": "stream",
          "name": "stdout",
          "text": [
            "Enter your username: 'admin' #'\n",
            "Enter your password: asdac\n",
            "Potential SQL injection detected!\n"
          ]
        }
      ]
    },
    {
      "cell_type": "code",
      "source": [],
      "metadata": {
        "id": "Qng7edXmJUeh"
      },
      "execution_count": 30,
      "outputs": []
    }
  ]
}