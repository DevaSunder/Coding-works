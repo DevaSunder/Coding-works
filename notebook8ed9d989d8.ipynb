{
 "cells": [
  {
   "cell_type": "markdown",
   "id": "ab71b720",
   "metadata": {
    "papermill": {
     "duration": 0.01306,
     "end_time": "2023-08-10T17:17:16.415998",
     "exception": false,
     "start_time": "2023-08-10T17:17:16.402938",
     "status": "completed"
    },
    "tags": []
   },
   "source": [
    "##### Fake News Detection using LSTM - DevaSunder - 2023-08-09 11:39:00 PM"
   ]
  },
  {
   "cell_type": "code",
   "execution_count": 1,
   "id": "a86d7839",
   "metadata": {
    "execution": {
     "iopub.execute_input": "2023-08-10T17:17:16.439752Z",
     "iopub.status.busy": "2023-08-10T17:17:16.438599Z",
     "iopub.status.idle": "2023-08-10T17:17:25.755696Z",
     "shell.execute_reply": "2023-08-10T17:17:25.754731Z"
    },
    "papermill": {
     "duration": 9.331709,
     "end_time": "2023-08-10T17:17:25.758443",
     "exception": false,
     "start_time": "2023-08-10T17:17:16.426734",
     "status": "completed"
    },
    "tags": []
   },
   "outputs": [
    {
     "name": "stderr",
     "output_type": "stream",
     "text": [
      "/opt/conda/lib/python3.10/site-packages/scipy/__init__.py:146: UserWarning: A NumPy version >=1.16.5 and <1.23.0 is required for this version of SciPy (detected version 1.23.5\n",
      "  warnings.warn(f\"A NumPy version >={np_minversion} and <{np_maxversion}\"\n",
      "/opt/conda/lib/python3.10/site-packages/tensorflow_io/python/ops/__init__.py:98: UserWarning: unable to load libtensorflow_io_plugins.so: unable to open file: libtensorflow_io_plugins.so, from paths: ['/opt/conda/lib/python3.10/site-packages/tensorflow_io/python/ops/libtensorflow_io_plugins.so']\n",
      "caused by: ['/opt/conda/lib/python3.10/site-packages/tensorflow_io/python/ops/libtensorflow_io_plugins.so: undefined symbol: _ZN3tsl6StatusC1EN10tensorflow5error4CodeESt17basic_string_viewIcSt11char_traitsIcEENS_14SourceLocationE']\n",
      "  warnings.warn(f\"unable to load libtensorflow_io_plugins.so: {e}\")\n",
      "/opt/conda/lib/python3.10/site-packages/tensorflow_io/python/ops/__init__.py:104: UserWarning: file system plugins are not loaded: unable to open file: libtensorflow_io.so, from paths: ['/opt/conda/lib/python3.10/site-packages/tensorflow_io/python/ops/libtensorflow_io.so']\n",
      "caused by: ['/opt/conda/lib/python3.10/site-packages/tensorflow_io/python/ops/libtensorflow_io.so: undefined symbol: _ZTVN10tensorflow13GcsFileSystemE']\n",
      "  warnings.warn(f\"file system plugins are not loaded: {e}\")\n"
     ]
    }
   ],
   "source": [
    "import tensorflow \n",
    "import pandas as pd\n"
   ]
  },
  {
   "cell_type": "code",
   "execution_count": 2,
   "id": "4c2dc139",
   "metadata": {
    "execution": {
     "iopub.execute_input": "2023-08-10T17:17:25.783202Z",
     "iopub.status.busy": "2023-08-10T17:17:25.782406Z",
     "iopub.status.idle": "2023-08-10T17:17:29.149945Z",
     "shell.execute_reply": "2023-08-10T17:17:29.148766Z"
    },
    "papermill": {
     "duration": 3.382829,
     "end_time": "2023-08-10T17:17:29.152862",
     "exception": false,
     "start_time": "2023-08-10T17:17:25.770033",
     "status": "completed"
    },
    "tags": []
   },
   "outputs": [],
   "source": [
    "df=pd.read_csv('/kaggle/input/fake-news/train.csv')\n",
    "df1=pd.read_csv('/kaggle/input/fake-news/test.csv')"
   ]
  },
  {
   "cell_type": "code",
   "execution_count": 3,
   "id": "7eea9d93",
   "metadata": {
    "execution": {
     "iopub.execute_input": "2023-08-10T17:17:29.176597Z",
     "iopub.status.busy": "2023-08-10T17:17:29.176210Z",
     "iopub.status.idle": "2023-08-10T17:17:29.203040Z",
     "shell.execute_reply": "2023-08-10T17:17:29.201557Z"
    },
    "papermill": {
     "duration": 0.041966,
     "end_time": "2023-08-10T17:17:29.205761",
     "exception": false,
     "start_time": "2023-08-10T17:17:29.163795",
     "status": "completed"
    },
    "tags": []
   },
   "outputs": [
    {
     "data": {
      "text/html": [
       "<div>\n",
       "<style scoped>\n",
       "    .dataframe tbody tr th:only-of-type {\n",
       "        vertical-align: middle;\n",
       "    }\n",
       "\n",
       "    .dataframe tbody tr th {\n",
       "        vertical-align: top;\n",
       "    }\n",
       "\n",
       "    .dataframe thead th {\n",
       "        text-align: right;\n",
       "    }\n",
       "</style>\n",
       "<table border=\"1\" class=\"dataframe\">\n",
       "  <thead>\n",
       "    <tr style=\"text-align: right;\">\n",
       "      <th></th>\n",
       "      <th>id</th>\n",
       "      <th>title</th>\n",
       "      <th>author</th>\n",
       "      <th>text</th>\n",
       "      <th>label</th>\n",
       "    </tr>\n",
       "  </thead>\n",
       "  <tbody>\n",
       "    <tr>\n",
       "      <th>0</th>\n",
       "      <td>0</td>\n",
       "      <td>House Dem Aide: We Didn’t Even See Comey’s Let...</td>\n",
       "      <td>Darrell Lucus</td>\n",
       "      <td>House Dem Aide: We Didn’t Even See Comey’s Let...</td>\n",
       "      <td>1</td>\n",
       "    </tr>\n",
       "    <tr>\n",
       "      <th>1</th>\n",
       "      <td>1</td>\n",
       "      <td>FLYNN: Hillary Clinton, Big Woman on Campus - ...</td>\n",
       "      <td>Daniel J. Flynn</td>\n",
       "      <td>Ever get the feeling your life circles the rou...</td>\n",
       "      <td>0</td>\n",
       "    </tr>\n",
       "    <tr>\n",
       "      <th>2</th>\n",
       "      <td>2</td>\n",
       "      <td>Why the Truth Might Get You Fired</td>\n",
       "      <td>Consortiumnews.com</td>\n",
       "      <td>Why the Truth Might Get You Fired October 29, ...</td>\n",
       "      <td>1</td>\n",
       "    </tr>\n",
       "    <tr>\n",
       "      <th>3</th>\n",
       "      <td>3</td>\n",
       "      <td>15 Civilians Killed In Single US Airstrike Hav...</td>\n",
       "      <td>Jessica Purkiss</td>\n",
       "      <td>Videos 15 Civilians Killed In Single US Airstr...</td>\n",
       "      <td>1</td>\n",
       "    </tr>\n",
       "    <tr>\n",
       "      <th>4</th>\n",
       "      <td>4</td>\n",
       "      <td>Iranian woman jailed for fictional unpublished...</td>\n",
       "      <td>Howard Portnoy</td>\n",
       "      <td>Print \\nAn Iranian woman has been sentenced to...</td>\n",
       "      <td>1</td>\n",
       "    </tr>\n",
       "  </tbody>\n",
       "</table>\n",
       "</div>"
      ],
      "text/plain": [
       "   id                                              title              author  \\\n",
       "0   0  House Dem Aide: We Didn’t Even See Comey’s Let...       Darrell Lucus   \n",
       "1   1  FLYNN: Hillary Clinton, Big Woman on Campus - ...     Daniel J. Flynn   \n",
       "2   2                  Why the Truth Might Get You Fired  Consortiumnews.com   \n",
       "3   3  15 Civilians Killed In Single US Airstrike Hav...     Jessica Purkiss   \n",
       "4   4  Iranian woman jailed for fictional unpublished...      Howard Portnoy   \n",
       "\n",
       "                                                text  label  \n",
       "0  House Dem Aide: We Didn’t Even See Comey’s Let...      1  \n",
       "1  Ever get the feeling your life circles the rou...      0  \n",
       "2  Why the Truth Might Get You Fired October 29, ...      1  \n",
       "3  Videos 15 Civilians Killed In Single US Airstr...      1  \n",
       "4  Print \\nAn Iranian woman has been sentenced to...      1  "
      ]
     },
     "execution_count": 3,
     "metadata": {},
     "output_type": "execute_result"
    }
   ],
   "source": [
    "df.head()"
   ]
  },
  {
   "cell_type": "code",
   "execution_count": 4,
   "id": "821ba0ac",
   "metadata": {
    "execution": {
     "iopub.execute_input": "2023-08-10T17:17:29.230702Z",
     "iopub.status.busy": "2023-08-10T17:17:29.230248Z",
     "iopub.status.idle": "2023-08-10T17:17:29.271517Z",
     "shell.execute_reply": "2023-08-10T17:17:29.270156Z"
    },
    "papermill": {
     "duration": 0.057244,
     "end_time": "2023-08-10T17:17:29.274421",
     "exception": false,
     "start_time": "2023-08-10T17:17:29.217177",
     "status": "completed"
    },
    "tags": []
   },
   "outputs": [],
   "source": [
    "df=df.dropna()\n",
    "df1=df1.dropna()"
   ]
  },
  {
   "cell_type": "code",
   "execution_count": 5,
   "id": "4add8d03",
   "metadata": {
    "execution": {
     "iopub.execute_input": "2023-08-10T17:17:29.298619Z",
     "iopub.status.busy": "2023-08-10T17:17:29.298176Z",
     "iopub.status.idle": "2023-08-10T17:17:29.305731Z",
     "shell.execute_reply": "2023-08-10T17:17:29.304545Z"
    },
    "papermill": {
     "duration": 0.022706,
     "end_time": "2023-08-10T17:17:29.308300",
     "exception": false,
     "start_time": "2023-08-10T17:17:29.285594",
     "status": "completed"
    },
    "tags": []
   },
   "outputs": [
    {
     "data": {
      "text/plain": [
       "(18285, 5)"
      ]
     },
     "execution_count": 5,
     "metadata": {},
     "output_type": "execute_result"
    }
   ],
   "source": [
    "df.shape"
   ]
  },
  {
   "cell_type": "code",
   "execution_count": 6,
   "id": "b9764cb4",
   "metadata": {
    "execution": {
     "iopub.execute_input": "2023-08-10T17:17:29.333528Z",
     "iopub.status.busy": "2023-08-10T17:17:29.332873Z",
     "iopub.status.idle": "2023-08-10T17:17:29.342380Z",
     "shell.execute_reply": "2023-08-10T17:17:29.341223Z"
    },
    "papermill": {
     "duration": 0.024913,
     "end_time": "2023-08-10T17:17:29.344741",
     "exception": false,
     "start_time": "2023-08-10T17:17:29.319828",
     "status": "completed"
    },
    "tags": []
   },
   "outputs": [],
   "source": [
    "X=df.drop('label',axis=1)"
   ]
  },
  {
   "cell_type": "code",
   "execution_count": 7,
   "id": "9a153944",
   "metadata": {
    "execution": {
     "iopub.execute_input": "2023-08-10T17:17:29.373006Z",
     "iopub.status.busy": "2023-08-10T17:17:29.372567Z",
     "iopub.status.idle": "2023-08-10T17:17:29.384970Z",
     "shell.execute_reply": "2023-08-10T17:17:29.383925Z"
    },
    "papermill": {
     "duration": 0.027276,
     "end_time": "2023-08-10T17:17:29.387241",
     "exception": false,
     "start_time": "2023-08-10T17:17:29.359965",
     "status": "completed"
    },
    "tags": []
   },
   "outputs": [
    {
     "data": {
      "text/html": [
       "<div>\n",
       "<style scoped>\n",
       "    .dataframe tbody tr th:only-of-type {\n",
       "        vertical-align: middle;\n",
       "    }\n",
       "\n",
       "    .dataframe tbody tr th {\n",
       "        vertical-align: top;\n",
       "    }\n",
       "\n",
       "    .dataframe thead th {\n",
       "        text-align: right;\n",
       "    }\n",
       "</style>\n",
       "<table border=\"1\" class=\"dataframe\">\n",
       "  <thead>\n",
       "    <tr style=\"text-align: right;\">\n",
       "      <th></th>\n",
       "      <th>id</th>\n",
       "      <th>title</th>\n",
       "      <th>author</th>\n",
       "      <th>text</th>\n",
       "    </tr>\n",
       "  </thead>\n",
       "  <tbody>\n",
       "    <tr>\n",
       "      <th>0</th>\n",
       "      <td>0</td>\n",
       "      <td>House Dem Aide: We Didn’t Even See Comey’s Let...</td>\n",
       "      <td>Darrell Lucus</td>\n",
       "      <td>House Dem Aide: We Didn’t Even See Comey’s Let...</td>\n",
       "    </tr>\n",
       "    <tr>\n",
       "      <th>1</th>\n",
       "      <td>1</td>\n",
       "      <td>FLYNN: Hillary Clinton, Big Woman on Campus - ...</td>\n",
       "      <td>Daniel J. Flynn</td>\n",
       "      <td>Ever get the feeling your life circles the rou...</td>\n",
       "    </tr>\n",
       "    <tr>\n",
       "      <th>2</th>\n",
       "      <td>2</td>\n",
       "      <td>Why the Truth Might Get You Fired</td>\n",
       "      <td>Consortiumnews.com</td>\n",
       "      <td>Why the Truth Might Get You Fired October 29, ...</td>\n",
       "    </tr>\n",
       "    <tr>\n",
       "      <th>3</th>\n",
       "      <td>3</td>\n",
       "      <td>15 Civilians Killed In Single US Airstrike Hav...</td>\n",
       "      <td>Jessica Purkiss</td>\n",
       "      <td>Videos 15 Civilians Killed In Single US Airstr...</td>\n",
       "    </tr>\n",
       "    <tr>\n",
       "      <th>4</th>\n",
       "      <td>4</td>\n",
       "      <td>Iranian woman jailed for fictional unpublished...</td>\n",
       "      <td>Howard Portnoy</td>\n",
       "      <td>Print \\nAn Iranian woman has been sentenced to...</td>\n",
       "    </tr>\n",
       "  </tbody>\n",
       "</table>\n",
       "</div>"
      ],
      "text/plain": [
       "   id                                              title              author  \\\n",
       "0   0  House Dem Aide: We Didn’t Even See Comey’s Let...       Darrell Lucus   \n",
       "1   1  FLYNN: Hillary Clinton, Big Woman on Campus - ...     Daniel J. Flynn   \n",
       "2   2                  Why the Truth Might Get You Fired  Consortiumnews.com   \n",
       "3   3  15 Civilians Killed In Single US Airstrike Hav...     Jessica Purkiss   \n",
       "4   4  Iranian woman jailed for fictional unpublished...      Howard Portnoy   \n",
       "\n",
       "                                                text  \n",
       "0  House Dem Aide: We Didn’t Even See Comey’s Let...  \n",
       "1  Ever get the feeling your life circles the rou...  \n",
       "2  Why the Truth Might Get You Fired October 29, ...  \n",
       "3  Videos 15 Civilians Killed In Single US Airstr...  \n",
       "4  Print \\nAn Iranian woman has been sentenced to...  "
      ]
     },
     "execution_count": 7,
     "metadata": {},
     "output_type": "execute_result"
    }
   ],
   "source": [
    "X.head()"
   ]
  },
  {
   "cell_type": "code",
   "execution_count": 8,
   "id": "51623356",
   "metadata": {
    "execution": {
     "iopub.execute_input": "2023-08-10T17:17:29.412979Z",
     "iopub.status.busy": "2023-08-10T17:17:29.412550Z",
     "iopub.status.idle": "2023-08-10T17:17:29.417512Z",
     "shell.execute_reply": "2023-08-10T17:17:29.416528Z"
    },
    "papermill": {
     "duration": 0.020825,
     "end_time": "2023-08-10T17:17:29.419883",
     "exception": false,
     "start_time": "2023-08-10T17:17:29.399058",
     "status": "completed"
    },
    "tags": []
   },
   "outputs": [],
   "source": [
    "y=df['label']"
   ]
  },
  {
   "cell_type": "code",
   "execution_count": 9,
   "id": "d7653d95",
   "metadata": {
    "execution": {
     "iopub.execute_input": "2023-08-10T17:17:29.445340Z",
     "iopub.status.busy": "2023-08-10T17:17:29.444617Z",
     "iopub.status.idle": "2023-08-10T17:17:29.451432Z",
     "shell.execute_reply": "2023-08-10T17:17:29.450693Z"
    },
    "papermill": {
     "duration": 0.021987,
     "end_time": "2023-08-10T17:17:29.453529",
     "exception": false,
     "start_time": "2023-08-10T17:17:29.431542",
     "status": "completed"
    },
    "tags": []
   },
   "outputs": [
    {
     "data": {
      "text/plain": [
       "0    1\n",
       "1    0\n",
       "2    1\n",
       "3    1\n",
       "4    1\n",
       "Name: label, dtype: int64"
      ]
     },
     "execution_count": 9,
     "metadata": {},
     "output_type": "execute_result"
    }
   ],
   "source": [
    "y.head()"
   ]
  },
  {
   "cell_type": "code",
   "execution_count": 10,
   "id": "3bf34bb9",
   "metadata": {
    "execution": {
     "iopub.execute_input": "2023-08-10T17:17:29.479291Z",
     "iopub.status.busy": "2023-08-10T17:17:29.478574Z",
     "iopub.status.idle": "2023-08-10T17:17:29.484353Z",
     "shell.execute_reply": "2023-08-10T17:17:29.483575Z"
    },
    "papermill": {
     "duration": 0.021196,
     "end_time": "2023-08-10T17:17:29.486598",
     "exception": false,
     "start_time": "2023-08-10T17:17:29.465402",
     "status": "completed"
    },
    "tags": []
   },
   "outputs": [
    {
     "data": {
      "text/plain": [
       "(18285,)"
      ]
     },
     "execution_count": 10,
     "metadata": {},
     "output_type": "execute_result"
    }
   ],
   "source": [
    "y.shape"
   ]
  },
  {
   "cell_type": "code",
   "execution_count": 11,
   "id": "24ff4330",
   "metadata": {
    "execution": {
     "iopub.execute_input": "2023-08-10T17:17:29.512612Z",
     "iopub.status.busy": "2023-08-10T17:17:29.511920Z",
     "iopub.status.idle": "2023-08-10T17:17:29.516503Z",
     "shell.execute_reply": "2023-08-10T17:17:29.515319Z"
    },
    "papermill": {
     "duration": 0.020475,
     "end_time": "2023-08-10T17:17:29.519068",
     "exception": false,
     "start_time": "2023-08-10T17:17:29.498593",
     "status": "completed"
    },
    "tags": []
   },
   "outputs": [],
   "source": [
    "from tensorflow import keras"
   ]
  },
  {
   "cell_type": "code",
   "execution_count": 12,
   "id": "aa4b44b4",
   "metadata": {
    "execution": {
     "iopub.execute_input": "2023-08-10T17:17:29.544696Z",
     "iopub.status.busy": "2023-08-10T17:17:29.544263Z",
     "iopub.status.idle": "2023-08-10T17:17:29.550718Z",
     "shell.execute_reply": "2023-08-10T17:17:29.549764Z"
    },
    "papermill": {
     "duration": 0.021931,
     "end_time": "2023-08-10T17:17:29.552960",
     "exception": false,
     "start_time": "2023-08-10T17:17:29.531029",
     "status": "completed"
    },
    "tags": []
   },
   "outputs": [],
   "source": [
    "from keras.utils import pad_sequences\n",
    "from keras.layers import Embedding\n",
    "from keras.models import Sequential\n",
    "from keras.layers import LSTM\n",
    "from keras.layers import Dense\n",
    "from keras.preprocessing.text import one_hot\n"
   ]
  },
  {
   "cell_type": "code",
   "execution_count": 13,
   "id": "cc188cd1",
   "metadata": {
    "execution": {
     "iopub.execute_input": "2023-08-10T17:17:29.579729Z",
     "iopub.status.busy": "2023-08-10T17:17:29.579022Z",
     "iopub.status.idle": "2023-08-10T17:17:29.583539Z",
     "shell.execute_reply": "2023-08-10T17:17:29.582596Z"
    },
    "papermill": {
     "duration": 0.020775,
     "end_time": "2023-08-10T17:17:29.585971",
     "exception": false,
     "start_time": "2023-08-10T17:17:29.565196",
     "status": "completed"
    },
    "tags": []
   },
   "outputs": [],
   "source": [
    "voc_size=5000"
   ]
  },
  {
   "cell_type": "code",
   "execution_count": 14,
   "id": "da4b43b1",
   "metadata": {
    "execution": {
     "iopub.execute_input": "2023-08-10T17:17:29.612522Z",
     "iopub.status.busy": "2023-08-10T17:17:29.611497Z",
     "iopub.status.idle": "2023-08-10T17:17:29.616947Z",
     "shell.execute_reply": "2023-08-10T17:17:29.615898Z"
    },
    "papermill": {
     "duration": 0.021611,
     "end_time": "2023-08-10T17:17:29.619559",
     "exception": false,
     "start_time": "2023-08-10T17:17:29.597948",
     "status": "completed"
    },
    "tags": []
   },
   "outputs": [],
   "source": [
    "# Text Preprocessing"
   ]
  },
  {
   "cell_type": "code",
   "execution_count": 15,
   "id": "37125f1a",
   "metadata": {
    "execution": {
     "iopub.execute_input": "2023-08-10T17:17:29.645478Z",
     "iopub.status.busy": "2023-08-10T17:17:29.645100Z",
     "iopub.status.idle": "2023-08-10T17:17:31.413485Z",
     "shell.execute_reply": "2023-08-10T17:17:31.412203Z"
    },
    "papermill": {
     "duration": 1.784416,
     "end_time": "2023-08-10T17:17:31.416338",
     "exception": false,
     "start_time": "2023-08-10T17:17:29.631922",
     "status": "completed"
    },
    "tags": []
   },
   "outputs": [],
   "source": [
    "from keras.layers import Embedding,Dense,LSTM\n",
    "from keras.models import Sequential\n",
    "from keras.utils import pad_sequences\n",
    "from keras.preprocessing.text import one_hot\n",
    "import nltk\n",
    "import re\n",
    "from nltk.corpus import stopwords\n"
   ]
  },
  {
   "cell_type": "code",
   "execution_count": 16,
   "id": "f8557437",
   "metadata": {
    "execution": {
     "iopub.execute_input": "2023-08-10T17:17:31.442911Z",
     "iopub.status.busy": "2023-08-10T17:17:31.442088Z",
     "iopub.status.idle": "2023-08-10T17:17:31.458029Z",
     "shell.execute_reply": "2023-08-10T17:17:31.456737Z"
    },
    "papermill": {
     "duration": 0.031902,
     "end_time": "2023-08-10T17:17:31.460473",
     "exception": false,
     "start_time": "2023-08-10T17:17:31.428571",
     "status": "completed"
    },
    "tags": []
   },
   "outputs": [
    {
     "data": {
      "text/html": [
       "<div>\n",
       "<style scoped>\n",
       "    .dataframe tbody tr th:only-of-type {\n",
       "        vertical-align: middle;\n",
       "    }\n",
       "\n",
       "    .dataframe tbody tr th {\n",
       "        vertical-align: top;\n",
       "    }\n",
       "\n",
       "    .dataframe thead th {\n",
       "        text-align: right;\n",
       "    }\n",
       "</style>\n",
       "<table border=\"1\" class=\"dataframe\">\n",
       "  <thead>\n",
       "    <tr style=\"text-align: right;\">\n",
       "      <th></th>\n",
       "      <th>id</th>\n",
       "      <th>title</th>\n",
       "      <th>author</th>\n",
       "      <th>text</th>\n",
       "    </tr>\n",
       "  </thead>\n",
       "  <tbody>\n",
       "    <tr>\n",
       "      <th>0</th>\n",
       "      <td>0</td>\n",
       "      <td>House Dem Aide: We Didn’t Even See Comey’s Let...</td>\n",
       "      <td>Darrell Lucus</td>\n",
       "      <td>House Dem Aide: We Didn’t Even See Comey’s Let...</td>\n",
       "    </tr>\n",
       "    <tr>\n",
       "      <th>1</th>\n",
       "      <td>1</td>\n",
       "      <td>FLYNN: Hillary Clinton, Big Woman on Campus - ...</td>\n",
       "      <td>Daniel J. Flynn</td>\n",
       "      <td>Ever get the feeling your life circles the rou...</td>\n",
       "    </tr>\n",
       "    <tr>\n",
       "      <th>2</th>\n",
       "      <td>2</td>\n",
       "      <td>Why the Truth Might Get You Fired</td>\n",
       "      <td>Consortiumnews.com</td>\n",
       "      <td>Why the Truth Might Get You Fired October 29, ...</td>\n",
       "    </tr>\n",
       "    <tr>\n",
       "      <th>3</th>\n",
       "      <td>3</td>\n",
       "      <td>15 Civilians Killed In Single US Airstrike Hav...</td>\n",
       "      <td>Jessica Purkiss</td>\n",
       "      <td>Videos 15 Civilians Killed In Single US Airstr...</td>\n",
       "    </tr>\n",
       "    <tr>\n",
       "      <th>4</th>\n",
       "      <td>4</td>\n",
       "      <td>Iranian woman jailed for fictional unpublished...</td>\n",
       "      <td>Howard Portnoy</td>\n",
       "      <td>Print \\nAn Iranian woman has been sentenced to...</td>\n",
       "    </tr>\n",
       "    <tr>\n",
       "      <th>...</th>\n",
       "      <td>...</td>\n",
       "      <td>...</td>\n",
       "      <td>...</td>\n",
       "      <td>...</td>\n",
       "    </tr>\n",
       "    <tr>\n",
       "      <th>20795</th>\n",
       "      <td>20795</td>\n",
       "      <td>Rapper T.I.: Trump a ’Poster Child For White S...</td>\n",
       "      <td>Jerome Hudson</td>\n",
       "      <td>Rapper T. I. unloaded on black celebrities who...</td>\n",
       "    </tr>\n",
       "    <tr>\n",
       "      <th>20796</th>\n",
       "      <td>20796</td>\n",
       "      <td>N.F.L. Playoffs: Schedule, Matchups and Odds -...</td>\n",
       "      <td>Benjamin Hoffman</td>\n",
       "      <td>When the Green Bay Packers lost to the Washing...</td>\n",
       "    </tr>\n",
       "    <tr>\n",
       "      <th>20797</th>\n",
       "      <td>20797</td>\n",
       "      <td>Macy’s Is Said to Receive Takeover Approach by...</td>\n",
       "      <td>Michael J. de la Merced and Rachel Abrams</td>\n",
       "      <td>The Macy’s of today grew from the union of sev...</td>\n",
       "    </tr>\n",
       "    <tr>\n",
       "      <th>20798</th>\n",
       "      <td>20798</td>\n",
       "      <td>NATO, Russia To Hold Parallel Exercises In Bal...</td>\n",
       "      <td>Alex Ansary</td>\n",
       "      <td>NATO, Russia To Hold Parallel Exercises In Bal...</td>\n",
       "    </tr>\n",
       "    <tr>\n",
       "      <th>20799</th>\n",
       "      <td>20799</td>\n",
       "      <td>What Keeps the F-35 Alive</td>\n",
       "      <td>David Swanson</td>\n",
       "      <td>David Swanson is an author, activist, journa...</td>\n",
       "    </tr>\n",
       "  </tbody>\n",
       "</table>\n",
       "<p>18285 rows × 4 columns</p>\n",
       "</div>"
      ],
      "text/plain": [
       "          id                                              title  \\\n",
       "0          0  House Dem Aide: We Didn’t Even See Comey’s Let...   \n",
       "1          1  FLYNN: Hillary Clinton, Big Woman on Campus - ...   \n",
       "2          2                  Why the Truth Might Get You Fired   \n",
       "3          3  15 Civilians Killed In Single US Airstrike Hav...   \n",
       "4          4  Iranian woman jailed for fictional unpublished...   \n",
       "...      ...                                                ...   \n",
       "20795  20795  Rapper T.I.: Trump a ’Poster Child For White S...   \n",
       "20796  20796  N.F.L. Playoffs: Schedule, Matchups and Odds -...   \n",
       "20797  20797  Macy’s Is Said to Receive Takeover Approach by...   \n",
       "20798  20798  NATO, Russia To Hold Parallel Exercises In Bal...   \n",
       "20799  20799                          What Keeps the F-35 Alive   \n",
       "\n",
       "                                          author  \\\n",
       "0                                  Darrell Lucus   \n",
       "1                                Daniel J. Flynn   \n",
       "2                             Consortiumnews.com   \n",
       "3                                Jessica Purkiss   \n",
       "4                                 Howard Portnoy   \n",
       "...                                          ...   \n",
       "20795                              Jerome Hudson   \n",
       "20796                           Benjamin Hoffman   \n",
       "20797  Michael J. de la Merced and Rachel Abrams   \n",
       "20798                                Alex Ansary   \n",
       "20799                              David Swanson   \n",
       "\n",
       "                                                    text  \n",
       "0      House Dem Aide: We Didn’t Even See Comey’s Let...  \n",
       "1      Ever get the feeling your life circles the rou...  \n",
       "2      Why the Truth Might Get You Fired October 29, ...  \n",
       "3      Videos 15 Civilians Killed In Single US Airstr...  \n",
       "4      Print \\nAn Iranian woman has been sentenced to...  \n",
       "...                                                  ...  \n",
       "20795  Rapper T. I. unloaded on black celebrities who...  \n",
       "20796  When the Green Bay Packers lost to the Washing...  \n",
       "20797  The Macy’s of today grew from the union of sev...  \n",
       "20798  NATO, Russia To Hold Parallel Exercises In Bal...  \n",
       "20799    David Swanson is an author, activist, journa...  \n",
       "\n",
       "[18285 rows x 4 columns]"
      ]
     },
     "execution_count": 16,
     "metadata": {},
     "output_type": "execute_result"
    }
   ],
   "source": [
    "X"
   ]
  },
  {
   "cell_type": "markdown",
   "id": "7d99c9c2",
   "metadata": {
    "papermill": {
     "duration": 0.011789,
     "end_time": "2023-08-10T17:17:31.484735",
     "exception": false,
     "start_time": "2023-08-10T17:17:31.472946",
     "status": "completed"
    },
    "tags": []
   },
   "source": [
    "#### One Hot Representation"
   ]
  },
  {
   "cell_type": "code",
   "execution_count": 17,
   "id": "cecc1be4",
   "metadata": {
    "execution": {
     "iopub.execute_input": "2023-08-10T17:17:31.510799Z",
     "iopub.status.busy": "2023-08-10T17:17:31.510379Z",
     "iopub.status.idle": "2023-08-10T17:17:31.516811Z",
     "shell.execute_reply": "2023-08-10T17:17:31.515954Z"
    },
    "papermill": {
     "duration": 0.022101,
     "end_time": "2023-08-10T17:17:31.518908",
     "exception": false,
     "start_time": "2023-08-10T17:17:31.496807",
     "status": "completed"
    },
    "tags": []
   },
   "outputs": [],
   "source": [
    "X=X.drop('id',axis=1)"
   ]
  },
  {
   "cell_type": "code",
   "execution_count": 18,
   "id": "854393db",
   "metadata": {
    "execution": {
     "iopub.execute_input": "2023-08-10T17:17:31.544906Z",
     "iopub.status.busy": "2023-08-10T17:17:31.544500Z",
     "iopub.status.idle": "2023-08-10T17:17:31.552414Z",
     "shell.execute_reply": "2023-08-10T17:17:31.551203Z"
    },
    "papermill": {
     "duration": 0.023643,
     "end_time": "2023-08-10T17:17:31.554824",
     "exception": false,
     "start_time": "2023-08-10T17:17:31.531181",
     "status": "completed"
    },
    "tags": []
   },
   "outputs": [],
   "source": [
    "X=X.reset_index(drop=True)\n",
    "df1=df1.reset_index(drop=True)"
   ]
  },
  {
   "cell_type": "code",
   "execution_count": 19,
   "id": "df53739c",
   "metadata": {
    "execution": {
     "iopub.execute_input": "2023-08-10T17:17:31.581981Z",
     "iopub.status.busy": "2023-08-10T17:17:31.581555Z",
     "iopub.status.idle": "2023-08-10T17:17:31.588312Z",
     "shell.execute_reply": "2023-08-10T17:17:31.587276Z"
    },
    "papermill": {
     "duration": 0.023062,
     "end_time": "2023-08-10T17:17:31.590501",
     "exception": false,
     "start_time": "2023-08-10T17:17:31.567439",
     "status": "completed"
    },
    "tags": []
   },
   "outputs": [],
   "source": [
    "messages=X.copy()\n",
    "messages1=df1.copy()"
   ]
  },
  {
   "cell_type": "code",
   "execution_count": 20,
   "id": "0cf6bfec",
   "metadata": {
    "execution": {
     "iopub.execute_input": "2023-08-10T17:17:31.616530Z",
     "iopub.status.busy": "2023-08-10T17:17:31.616093Z",
     "iopub.status.idle": "2023-08-10T17:17:31.631650Z",
     "shell.execute_reply": "2023-08-10T17:17:31.630443Z"
    },
    "papermill": {
     "duration": 0.031545,
     "end_time": "2023-08-10T17:17:31.634191",
     "exception": false,
     "start_time": "2023-08-10T17:17:31.602646",
     "status": "completed"
    },
    "tags": []
   },
   "outputs": [
    {
     "data": {
      "text/html": [
       "<div>\n",
       "<style scoped>\n",
       "    .dataframe tbody tr th:only-of-type {\n",
       "        vertical-align: middle;\n",
       "    }\n",
       "\n",
       "    .dataframe tbody tr th {\n",
       "        vertical-align: top;\n",
       "    }\n",
       "\n",
       "    .dataframe thead th {\n",
       "        text-align: right;\n",
       "    }\n",
       "</style>\n",
       "<table border=\"1\" class=\"dataframe\">\n",
       "  <thead>\n",
       "    <tr style=\"text-align: right;\">\n",
       "      <th></th>\n",
       "      <th>id</th>\n",
       "      <th>title</th>\n",
       "      <th>author</th>\n",
       "      <th>text</th>\n",
       "    </tr>\n",
       "  </thead>\n",
       "  <tbody>\n",
       "    <tr>\n",
       "      <th>0</th>\n",
       "      <td>20800</td>\n",
       "      <td>Specter of Trump Loosens Tongues, if Not Purse...</td>\n",
       "      <td>David Streitfeld</td>\n",
       "      <td>PALO ALTO, Calif.  —   After years of scorning...</td>\n",
       "    </tr>\n",
       "    <tr>\n",
       "      <th>1</th>\n",
       "      <td>20802</td>\n",
       "      <td>#NoDAPL: Native American Leaders Vow to Stay A...</td>\n",
       "      <td>Common Dreams</td>\n",
       "      <td>Videos #NoDAPL: Native American Leaders Vow to...</td>\n",
       "    </tr>\n",
       "    <tr>\n",
       "      <th>2</th>\n",
       "      <td>20803</td>\n",
       "      <td>Tim Tebow Will Attempt Another Comeback, This ...</td>\n",
       "      <td>Daniel Victor</td>\n",
       "      <td>If at first you don’t succeed, try a different...</td>\n",
       "    </tr>\n",
       "    <tr>\n",
       "      <th>3</th>\n",
       "      <td>20804</td>\n",
       "      <td>Keiser Report: Meme Wars (E995)</td>\n",
       "      <td>Truth Broadcast Network</td>\n",
       "      <td>42 mins ago 1 Views 0 Comments 0 Likes 'For th...</td>\n",
       "    </tr>\n",
       "    <tr>\n",
       "      <th>4</th>\n",
       "      <td>20806</td>\n",
       "      <td>Pelosi Calls for FBI Investigation to Find Out...</td>\n",
       "      <td>Pam Key</td>\n",
       "      <td>Sunday on NBC’s “Meet the Press,” House Minori...</td>\n",
       "    </tr>\n",
       "    <tr>\n",
       "      <th>...</th>\n",
       "      <td>...</td>\n",
       "      <td>...</td>\n",
       "      <td>...</td>\n",
       "      <td>...</td>\n",
       "    </tr>\n",
       "    <tr>\n",
       "      <th>4570</th>\n",
       "      <td>25994</td>\n",
       "      <td>Trump on If ’Tapes’ Exist of Comey Conversatio...</td>\n",
       "      <td>Pam Key</td>\n",
       "      <td>Pres. Trump on if “tapes” exist of his convers...</td>\n",
       "    </tr>\n",
       "    <tr>\n",
       "      <th>4571</th>\n",
       "      <td>25995</td>\n",
       "      <td>The Bangladeshi Traffic Jam That Never Ends - ...</td>\n",
       "      <td>Jody Rosen</td>\n",
       "      <td>Of all the dysfunctions that plague the world’...</td>\n",
       "    </tr>\n",
       "    <tr>\n",
       "      <th>4572</th>\n",
       "      <td>25996</td>\n",
       "      <td>John Kasich Signs One Abortion Bill in Ohio bu...</td>\n",
       "      <td>Sheryl Gay Stolberg</td>\n",
       "      <td>WASHINGTON  —   Gov. John Kasich of Ohio on Tu...</td>\n",
       "    </tr>\n",
       "    <tr>\n",
       "      <th>4573</th>\n",
       "      <td>25997</td>\n",
       "      <td>California Today: What, Exactly, Is in Your Su...</td>\n",
       "      <td>Mike McPhate</td>\n",
       "      <td>Good morning. (Want to get California Today by...</td>\n",
       "    </tr>\n",
       "    <tr>\n",
       "      <th>4574</th>\n",
       "      <td>25999</td>\n",
       "      <td>Awkward Sex, Onscreen and Off - The New York T...</td>\n",
       "      <td>Teddy Wayne</td>\n",
       "      <td>Perhaps you’ve seen the new TV series whose pi...</td>\n",
       "    </tr>\n",
       "  </tbody>\n",
       "</table>\n",
       "<p>4575 rows × 4 columns</p>\n",
       "</div>"
      ],
      "text/plain": [
       "         id                                              title  \\\n",
       "0     20800  Specter of Trump Loosens Tongues, if Not Purse...   \n",
       "1     20802  #NoDAPL: Native American Leaders Vow to Stay A...   \n",
       "2     20803  Tim Tebow Will Attempt Another Comeback, This ...   \n",
       "3     20804                    Keiser Report: Meme Wars (E995)   \n",
       "4     20806  Pelosi Calls for FBI Investigation to Find Out...   \n",
       "...     ...                                                ...   \n",
       "4570  25994  Trump on If ’Tapes’ Exist of Comey Conversatio...   \n",
       "4571  25995  The Bangladeshi Traffic Jam That Never Ends - ...   \n",
       "4572  25996  John Kasich Signs One Abortion Bill in Ohio bu...   \n",
       "4573  25997  California Today: What, Exactly, Is in Your Su...   \n",
       "4574  25999  Awkward Sex, Onscreen and Off - The New York T...   \n",
       "\n",
       "                       author  \\\n",
       "0            David Streitfeld   \n",
       "1               Common Dreams   \n",
       "2               Daniel Victor   \n",
       "3     Truth Broadcast Network   \n",
       "4                     Pam Key   \n",
       "...                       ...   \n",
       "4570                  Pam Key   \n",
       "4571               Jody Rosen   \n",
       "4572      Sheryl Gay Stolberg   \n",
       "4573             Mike McPhate   \n",
       "4574              Teddy Wayne   \n",
       "\n",
       "                                                   text  \n",
       "0     PALO ALTO, Calif.  —   After years of scorning...  \n",
       "1     Videos #NoDAPL: Native American Leaders Vow to...  \n",
       "2     If at first you don’t succeed, try a different...  \n",
       "3     42 mins ago 1 Views 0 Comments 0 Likes 'For th...  \n",
       "4     Sunday on NBC’s “Meet the Press,” House Minori...  \n",
       "...                                                 ...  \n",
       "4570  Pres. Trump on if “tapes” exist of his convers...  \n",
       "4571  Of all the dysfunctions that plague the world’...  \n",
       "4572  WASHINGTON  —   Gov. John Kasich of Ohio on Tu...  \n",
       "4573  Good morning. (Want to get California Today by...  \n",
       "4574  Perhaps you’ve seen the new TV series whose pi...  \n",
       "\n",
       "[4575 rows x 4 columns]"
      ]
     },
     "execution_count": 20,
     "metadata": {},
     "output_type": "execute_result"
    }
   ],
   "source": [
    "messages1"
   ]
  },
  {
   "cell_type": "code",
   "execution_count": 21,
   "id": "de92df64",
   "metadata": {
    "execution": {
     "iopub.execute_input": "2023-08-10T17:17:31.662090Z",
     "iopub.status.busy": "2023-08-10T17:17:31.661657Z",
     "iopub.status.idle": "2023-08-10T17:18:10.906568Z",
     "shell.execute_reply": "2023-08-10T17:18:10.905317Z"
    },
    "papermill": {
     "duration": 39.262245,
     "end_time": "2023-08-10T17:18:10.909552",
     "exception": false,
     "start_time": "2023-08-10T17:17:31.647307",
     "status": "completed"
    },
    "tags": []
   },
   "outputs": [],
   "source": [
    "## DataPreprocessing\n",
    "from nltk.stem.porter import PorterStemmer\n",
    "ps = PorterStemmer()\n",
    "corpus = []\n",
    "for i in range(0,len(messages)):\n",
    "    review = re.sub('[^a-zA-Z]',' ',messages['title'][i])\n",
    "    review = review.lower()\n",
    "    review = review.split()\n",
    "\n",
    "    review = [ps.stem(word) for word in review if not word in stopwords.words('english')]\n",
    "    review = ' '.join(review)\n",
    "    \n",
    "    corpus.append(review)"
   ]
  },
  {
   "cell_type": "code",
   "execution_count": 22,
   "id": "2a0414b6",
   "metadata": {
    "execution": {
     "iopub.execute_input": "2023-08-10T17:18:10.936901Z",
     "iopub.status.busy": "2023-08-10T17:18:10.936464Z",
     "iopub.status.idle": "2023-08-10T17:18:20.888274Z",
     "shell.execute_reply": "2023-08-10T17:18:20.887021Z"
    },
    "papermill": {
     "duration": 9.96857,
     "end_time": "2023-08-10T17:18:20.891066",
     "exception": false,
     "start_time": "2023-08-10T17:18:10.922496",
     "status": "completed"
    },
    "tags": []
   },
   "outputs": [],
   "source": [
    "## DataPreprocessing\n",
    "from nltk.stem.porter import PorterStemmer\n",
    "ps = PorterStemmer()\n",
    "corpus_test = []\n",
    "for i in range(0,len(messages1)):\n",
    "    review = re.sub('[^a-zA-Z]',' ',messages1['title'][i])\n",
    "    review = review.lower()\n",
    "    review = review.split()\n",
    "\n",
    "    review = [ps.stem(word) for word in review if not word in stopwords.words('english')]\n",
    "    review = ' '.join(review)\n",
    "    \n",
    "    corpus_test.append(review)"
   ]
  },
  {
   "cell_type": "code",
   "execution_count": 23,
   "id": "91cafad6",
   "metadata": {
    "execution": {
     "iopub.execute_input": "2023-08-10T17:18:20.918293Z",
     "iopub.status.busy": "2023-08-10T17:18:20.917862Z",
     "iopub.status.idle": "2023-08-10T17:18:21.303732Z",
     "shell.execute_reply": "2023-08-10T17:18:21.302456Z"
    },
    "papermill": {
     "duration": 0.402687,
     "end_time": "2023-08-10T17:18:21.306547",
     "exception": false,
     "start_time": "2023-08-10T17:18:20.903860",
     "status": "completed"
    },
    "tags": []
   },
   "outputs": [],
   "source": [
    "onehot_repr = [one_hot(words,voc_size)for words in corpus]\n",
    "onehot_repr_test = [one_hot(words,voc_size)for words in corpus_test]"
   ]
  },
  {
   "cell_type": "code",
   "execution_count": 24,
   "id": "ca995caf",
   "metadata": {
    "execution": {
     "iopub.execute_input": "2023-08-10T17:18:21.334818Z",
     "iopub.status.busy": "2023-08-10T17:18:21.334371Z",
     "iopub.status.idle": "2023-08-10T17:18:21.453445Z",
     "shell.execute_reply": "2023-08-10T17:18:21.452102Z"
    },
    "papermill": {
     "duration": 0.136283,
     "end_time": "2023-08-10T17:18:21.456297",
     "exception": false,
     "start_time": "2023-08-10T17:18:21.320014",
     "status": "completed"
    },
    "tags": []
   },
   "outputs": [],
   "source": [
    "## Embedding\n",
    "sent_length = 20\n",
    "embedded_docs = pad_sequences(onehot_repr,padding='pre',maxlen=sent_length)\n",
    "embedded_docs_test = pad_sequences(onehot_repr_test,padding='pre',maxlen=sent_length)"
   ]
  },
  {
   "cell_type": "code",
   "execution_count": 25,
   "id": "be08a4b4",
   "metadata": {
    "execution": {
     "iopub.execute_input": "2023-08-10T17:18:21.483360Z",
     "iopub.status.busy": "2023-08-10T17:18:21.482938Z",
     "iopub.status.idle": "2023-08-10T17:18:22.075068Z",
     "shell.execute_reply": "2023-08-10T17:18:22.073829Z"
    },
    "papermill": {
     "duration": 0.608131,
     "end_time": "2023-08-10T17:18:22.077139",
     "exception": false,
     "start_time": "2023-08-10T17:18:21.469008",
     "status": "completed"
    },
    "tags": []
   },
   "outputs": [
    {
     "name": "stdout",
     "output_type": "stream",
     "text": [
      "Model: \"sequential\"\n",
      "_________________________________________________________________\n",
      " Layer (type)                Output Shape              Param #   \n",
      "=================================================================\n",
      " embedding (Embedding)       (None, 20, 40)            200000    \n",
      "                                                                 \n",
      " lstm (LSTM)                 (None, 100)               56400     \n",
      "                                                                 \n",
      " dense (Dense)               (None, 1)                 101       \n",
      "                                                                 \n",
      "=================================================================\n",
      "Total params: 256,501\n",
      "Trainable params: 256,501\n",
      "Non-trainable params: 0\n",
      "_________________________________________________________________\n",
      "None\n"
     ]
    }
   ],
   "source": [
    "#MODEL:\n",
    "embedding_vector_features=40\n",
    "model=Sequential()\n",
    "model.add(Embedding(voc_size,embedding_vector_features,input_length=sent_length))\n",
    "model.add(LSTM(100))\n",
    "model.add(Dense(1,activation='sigmoid'))\n",
    "model.compile(loss='binary_crossentropy',optimizer='adam',metrics=['accuracy'])\n",
    "print(model.summary())"
   ]
  },
  {
   "cell_type": "code",
   "execution_count": 26,
   "id": "63cb1a8e",
   "metadata": {
    "execution": {
     "iopub.execute_input": "2023-08-10T17:18:22.106907Z",
     "iopub.status.busy": "2023-08-10T17:18:22.106463Z",
     "iopub.status.idle": "2023-08-10T17:18:22.116833Z",
     "shell.execute_reply": "2023-08-10T17:18:22.115919Z"
    },
    "papermill": {
     "duration": 0.02771,
     "end_time": "2023-08-10T17:18:22.118998",
     "exception": false,
     "start_time": "2023-08-10T17:18:22.091288",
     "status": "completed"
    },
    "tags": []
   },
   "outputs": [
    {
     "data": {
      "text/plain": [
       "((18285, 20), (18285,))"
      ]
     },
     "execution_count": 26,
     "metadata": {},
     "output_type": "execute_result"
    }
   ],
   "source": [
    "import numpy as np\n",
    "X_final=np.array(embedded_docs)\n",
    "y_final=np.array(y)\n",
    "test_final = np.array(embedded_docs_test)\n",
    "X_final.shape,y_final.shape\n"
   ]
  },
  {
   "cell_type": "code",
   "execution_count": 27,
   "id": "3921c0af",
   "metadata": {
    "execution": {
     "iopub.execute_input": "2023-08-10T17:18:22.149593Z",
     "iopub.status.busy": "2023-08-10T17:18:22.148516Z",
     "iopub.status.idle": "2023-08-10T17:19:43.646733Z",
     "shell.execute_reply": "2023-08-10T17:19:43.645686Z"
    },
    "papermill": {
     "duration": 81.51654,
     "end_time": "2023-08-10T17:19:43.649777",
     "exception": false,
     "start_time": "2023-08-10T17:18:22.133237",
     "status": "completed"
    },
    "tags": []
   },
   "outputs": [
    {
     "name": "stdout",
     "output_type": "stream",
     "text": [
      "Epoch 1/10\n",
      "286/286 [==============================] - 11s 27ms/step - loss: 0.2869 - accuracy: 0.8670\n",
      "Epoch 2/10\n",
      "286/286 [==============================] - 8s 27ms/step - loss: 0.1377 - accuracy: 0.9448\n",
      "Epoch 3/10\n",
      "286/286 [==============================] - 8s 28ms/step - loss: 0.1113 - accuracy: 0.9577\n",
      "Epoch 4/10\n",
      "286/286 [==============================] - 8s 27ms/step - loss: 0.0925 - accuracy: 0.9654\n",
      "Epoch 5/10\n",
      "286/286 [==============================] - 8s 27ms/step - loss: 0.0767 - accuracy: 0.9723\n",
      "Epoch 6/10\n",
      "286/286 [==============================] - 8s 27ms/step - loss: 0.0604 - accuracy: 0.9800\n",
      "Epoch 7/10\n",
      "286/286 [==============================] - 8s 28ms/step - loss: 0.0459 - accuracy: 0.9854\n",
      "Epoch 8/10\n",
      "286/286 [==============================] - 8s 28ms/step - loss: 0.0327 - accuracy: 0.9900\n",
      "Epoch 9/10\n",
      "286/286 [==============================] - 8s 27ms/step - loss: 0.0209 - accuracy: 0.9938\n",
      "Epoch 10/10\n",
      "286/286 [==============================] - 8s 27ms/step - loss: 0.0165 - accuracy: 0.9944\n"
     ]
    },
    {
     "data": {
      "text/plain": [
       "<keras.callbacks.History at 0x7d9eb80fa1a0>"
      ]
     },
     "execution_count": 27,
     "metadata": {},
     "output_type": "execute_result"
    }
   ],
   "source": [
    "model.fit(X_final, y,epochs=10, batch_size=64, verbose=1)"
   ]
  },
  {
   "cell_type": "code",
   "execution_count": 28,
   "id": "f1da98a5",
   "metadata": {
    "execution": {
     "iopub.execute_input": "2023-08-10T17:19:43.941055Z",
     "iopub.status.busy": "2023-08-10T17:19:43.940610Z",
     "iopub.status.idle": "2023-08-10T17:19:45.451356Z",
     "shell.execute_reply": "2023-08-10T17:19:45.450113Z"
    },
    "papermill": {
     "duration": 1.658934,
     "end_time": "2023-08-10T17:19:45.454182",
     "exception": false,
     "start_time": "2023-08-10T17:19:43.795248",
     "status": "completed"
    },
    "tags": []
   },
   "outputs": [
    {
     "name": "stdout",
     "output_type": "stream",
     "text": [
      "143/143 [==============================] - 1s 6ms/step\n"
     ]
    }
   ],
   "source": [
    "y_pred = (model.predict(test_final) > 0.5).astype(\"int32\")"
   ]
  },
  {
   "cell_type": "code",
   "execution_count": 29,
   "id": "dc8abff2",
   "metadata": {
    "execution": {
     "iopub.execute_input": "2023-08-10T17:19:45.752536Z",
     "iopub.status.busy": "2023-08-10T17:19:45.751705Z",
     "iopub.status.idle": "2023-08-10T17:19:45.759655Z",
     "shell.execute_reply": "2023-08-10T17:19:45.758248Z"
    },
    "papermill": {
     "duration": 0.159879,
     "end_time": "2023-08-10T17:19:45.762160",
     "exception": false,
     "start_time": "2023-08-10T17:19:45.602281",
     "status": "completed"
    },
    "tags": []
   },
   "outputs": [
    {
     "data": {
      "text/plain": [
       "array([[0],\n",
       "       [1],\n",
       "       [0],\n",
       "       ...,\n",
       "       [0],\n",
       "       [0],\n",
       "       [0]], dtype=int32)"
      ]
     },
     "execution_count": 29,
     "metadata": {},
     "output_type": "execute_result"
    }
   ],
   "source": [
    "y_pred"
   ]
  },
  {
   "cell_type": "code",
   "execution_count": 30,
   "id": "d8a33adf",
   "metadata": {
    "execution": {
     "iopub.execute_input": "2023-08-10T17:19:46.056883Z",
     "iopub.status.busy": "2023-08-10T17:19:46.056460Z",
     "iopub.status.idle": "2023-08-10T17:19:46.079140Z",
     "shell.execute_reply": "2023-08-10T17:19:46.077874Z"
    },
    "papermill": {
     "duration": 0.17461,
     "end_time": "2023-08-10T17:19:46.082038",
     "exception": false,
     "start_time": "2023-08-10T17:19:45.907428",
     "status": "completed"
    },
    "tags": []
   },
   "outputs": [],
   "source": [
    "final_sub = pd.DataFrame()\n",
    "final_sub['id']=df1['id']\n",
    "final_sub['label'] = y_pred\n",
    "final_sub.to_csv('final_sub.csv',index=False)"
   ]
  },
  {
   "cell_type": "code",
   "execution_count": 31,
   "id": "7007cd68",
   "metadata": {
    "execution": {
     "iopub.execute_input": "2023-08-10T17:19:46.375550Z",
     "iopub.status.busy": "2023-08-10T17:19:46.374788Z",
     "iopub.status.idle": "2023-08-10T17:19:46.384483Z",
     "shell.execute_reply": "2023-08-10T17:19:46.383389Z"
    },
    "papermill": {
     "duration": 0.159162,
     "end_time": "2023-08-10T17:19:46.387027",
     "exception": false,
     "start_time": "2023-08-10T17:19:46.227865",
     "status": "completed"
    },
    "tags": []
   },
   "outputs": [
    {
     "data": {
      "text/html": [
       "<div>\n",
       "<style scoped>\n",
       "    .dataframe tbody tr th:only-of-type {\n",
       "        vertical-align: middle;\n",
       "    }\n",
       "\n",
       "    .dataframe tbody tr th {\n",
       "        vertical-align: top;\n",
       "    }\n",
       "\n",
       "    .dataframe thead th {\n",
       "        text-align: right;\n",
       "    }\n",
       "</style>\n",
       "<table border=\"1\" class=\"dataframe\">\n",
       "  <thead>\n",
       "    <tr style=\"text-align: right;\">\n",
       "      <th></th>\n",
       "      <th>id</th>\n",
       "      <th>label</th>\n",
       "    </tr>\n",
       "  </thead>\n",
       "  <tbody>\n",
       "    <tr>\n",
       "      <th>0</th>\n",
       "      <td>20800</td>\n",
       "      <td>0</td>\n",
       "    </tr>\n",
       "    <tr>\n",
       "      <th>1</th>\n",
       "      <td>20802</td>\n",
       "      <td>1</td>\n",
       "    </tr>\n",
       "    <tr>\n",
       "      <th>2</th>\n",
       "      <td>20803</td>\n",
       "      <td>0</td>\n",
       "    </tr>\n",
       "    <tr>\n",
       "      <th>3</th>\n",
       "      <td>20804</td>\n",
       "      <td>1</td>\n",
       "    </tr>\n",
       "    <tr>\n",
       "      <th>4</th>\n",
       "      <td>20806</td>\n",
       "      <td>0</td>\n",
       "    </tr>\n",
       "  </tbody>\n",
       "</table>\n",
       "</div>"
      ],
      "text/plain": [
       "      id  label\n",
       "0  20800      0\n",
       "1  20802      1\n",
       "2  20803      0\n",
       "3  20804      1\n",
       "4  20806      0"
      ]
     },
     "execution_count": 31,
     "metadata": {},
     "output_type": "execute_result"
    }
   ],
   "source": [
    "final_sub.head()"
   ]
  },
  {
   "cell_type": "code",
   "execution_count": null,
   "id": "a72c840f",
   "metadata": {
    "papermill": {
     "duration": 0.147186,
     "end_time": "2023-08-10T17:19:46.679488",
     "exception": false,
     "start_time": "2023-08-10T17:19:46.532302",
     "status": "completed"
    },
    "tags": []
   },
   "outputs": [],
   "source": []
  }
 ],
 "metadata": {
  "kernelspec": {
   "display_name": "Python 3",
   "language": "python",
   "name": "python3"
  },
  "language_info": {
   "codemirror_mode": {
    "name": "ipython",
    "version": 3
   },
   "file_extension": ".py",
   "mimetype": "text/x-python",
   "name": "python",
   "nbconvert_exporter": "python",
   "pygments_lexer": "ipython3",
   "version": "3.10.12"
  },
  "papermill": {
   "default_parameters": {},
   "duration": 164.808705,
   "end_time": "2023-08-10T17:19:49.768362",
   "environment_variables": {},
   "exception": null,
   "input_path": "__notebook__.ipynb",
   "output_path": "__notebook__.ipynb",
   "parameters": {},
   "start_time": "2023-08-10T17:17:04.959657",
   "version": "2.4.0"
  }
 },
 "nbformat": 4,
 "nbformat_minor": 5
}
