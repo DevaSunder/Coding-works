{
 "cells": [
  {
   "cell_type": "markdown",
   "id": "4b6db20d",
   "metadata": {
    "papermill": {
     "duration": 0.013377,
     "end_time": "2023-08-10T17:39:47.304191",
     "exception": false,
     "start_time": "2023-08-10T17:39:47.290814",
     "status": "completed"
    },
    "tags": []
   },
   "source": [
    "##### Fake News Detection using LSTM - DevaSunder - 2023-08-09 11:39:00 PM"
   ]
  },
  {
   "cell_type": "code",
   "execution_count": 1,
   "id": "4e2a6b4e",
   "metadata": {
    "execution": {
     "iopub.execute_input": "2023-08-10T17:39:47.329412Z",
     "iopub.status.busy": "2023-08-10T17:39:47.328841Z",
     "iopub.status.idle": "2023-08-10T17:39:57.017726Z",
     "shell.execute_reply": "2023-08-10T17:39:57.016599Z"
    },
    "papermill": {
     "duration": 9.704573,
     "end_time": "2023-08-10T17:39:57.020517",
     "exception": false,
     "start_time": "2023-08-10T17:39:47.315944",
     "status": "completed"
    },
    "tags": []
   },
   "outputs": [
    {
     "name": "stderr",
     "output_type": "stream",
     "text": [
      "/opt/conda/lib/python3.10/site-packages/scipy/__init__.py:146: UserWarning: A NumPy version >=1.16.5 and <1.23.0 is required for this version of SciPy (detected version 1.23.5\n",
      "  warnings.warn(f\"A NumPy version >={np_minversion} and <{np_maxversion}\"\n",
      "/opt/conda/lib/python3.10/site-packages/tensorflow_io/python/ops/__init__.py:98: UserWarning: unable to load libtensorflow_io_plugins.so: unable to open file: libtensorflow_io_plugins.so, from paths: ['/opt/conda/lib/python3.10/site-packages/tensorflow_io/python/ops/libtensorflow_io_plugins.so']\n",
      "caused by: ['/opt/conda/lib/python3.10/site-packages/tensorflow_io/python/ops/libtensorflow_io_plugins.so: undefined symbol: _ZN3tsl6StatusC1EN10tensorflow5error4CodeESt17basic_string_viewIcSt11char_traitsIcEENS_14SourceLocationE']\n",
      "  warnings.warn(f\"unable to load libtensorflow_io_plugins.so: {e}\")\n",
      "/opt/conda/lib/python3.10/site-packages/tensorflow_io/python/ops/__init__.py:104: UserWarning: file system plugins are not loaded: unable to open file: libtensorflow_io.so, from paths: ['/opt/conda/lib/python3.10/site-packages/tensorflow_io/python/ops/libtensorflow_io.so']\n",
      "caused by: ['/opt/conda/lib/python3.10/site-packages/tensorflow_io/python/ops/libtensorflow_io.so: undefined symbol: _ZTVN10tensorflow13GcsFileSystemE']\n",
      "  warnings.warn(f\"file system plugins are not loaded: {e}\")\n"
     ]
    }
   ],
   "source": [
    "import tensorflow \n",
    "import pandas as pd\n"
   ]
  },
  {
   "cell_type": "code",
   "execution_count": 2,
   "id": "96464fcb",
   "metadata": {
    "execution": {
     "iopub.execute_input": "2023-08-10T17:39:57.045938Z",
     "iopub.status.busy": "2023-08-10T17:39:57.045133Z",
     "iopub.status.idle": "2023-08-10T17:40:00.296272Z",
     "shell.execute_reply": "2023-08-10T17:40:00.294982Z"
    },
    "papermill": {
     "duration": 3.266744,
     "end_time": "2023-08-10T17:40:00.299041",
     "exception": false,
     "start_time": "2023-08-10T17:39:57.032297",
     "status": "completed"
    },
    "tags": []
   },
   "outputs": [],
   "source": [
    "df=pd.read_csv('/kaggle/input/fake-news/train.csv')\n",
    "df1=pd.read_csv('/kaggle/input/fake-news/test.csv')"
   ]
  },
  {
   "cell_type": "code",
   "execution_count": 3,
   "id": "5d39b4cb",
   "metadata": {
    "execution": {
     "iopub.execute_input": "2023-08-10T17:40:00.323810Z",
     "iopub.status.busy": "2023-08-10T17:40:00.323421Z",
     "iopub.status.idle": "2023-08-10T17:40:00.331604Z",
     "shell.execute_reply": "2023-08-10T17:40:00.330592Z"
    },
    "papermill": {
     "duration": 0.0234,
     "end_time": "2023-08-10T17:40:00.333933",
     "exception": false,
     "start_time": "2023-08-10T17:40:00.310533",
     "status": "completed"
    },
    "tags": []
   },
   "outputs": [
    {
     "data": {
      "text/plain": [
       "(5200, 4)"
      ]
     },
     "execution_count": 3,
     "metadata": {},
     "output_type": "execute_result"
    }
   ],
   "source": [
    "df1.shape"
   ]
  },
  {
   "cell_type": "code",
   "execution_count": 4,
   "id": "72baceb4",
   "metadata": {
    "execution": {
     "iopub.execute_input": "2023-08-10T17:40:00.359169Z",
     "iopub.status.busy": "2023-08-10T17:40:00.358798Z",
     "iopub.status.idle": "2023-08-10T17:40:00.378709Z",
     "shell.execute_reply": "2023-08-10T17:40:00.377484Z"
    },
    "papermill": {
     "duration": 0.035611,
     "end_time": "2023-08-10T17:40:00.381275",
     "exception": false,
     "start_time": "2023-08-10T17:40:00.345664",
     "status": "completed"
    },
    "tags": []
   },
   "outputs": [
    {
     "data": {
      "text/html": [
       "<div>\n",
       "<style scoped>\n",
       "    .dataframe tbody tr th:only-of-type {\n",
       "        vertical-align: middle;\n",
       "    }\n",
       "\n",
       "    .dataframe tbody tr th {\n",
       "        vertical-align: top;\n",
       "    }\n",
       "\n",
       "    .dataframe thead th {\n",
       "        text-align: right;\n",
       "    }\n",
       "</style>\n",
       "<table border=\"1\" class=\"dataframe\">\n",
       "  <thead>\n",
       "    <tr style=\"text-align: right;\">\n",
       "      <th></th>\n",
       "      <th>id</th>\n",
       "      <th>title</th>\n",
       "      <th>author</th>\n",
       "      <th>text</th>\n",
       "      <th>label</th>\n",
       "    </tr>\n",
       "  </thead>\n",
       "  <tbody>\n",
       "    <tr>\n",
       "      <th>0</th>\n",
       "      <td>0</td>\n",
       "      <td>House Dem Aide: We Didn’t Even See Comey’s Let...</td>\n",
       "      <td>Darrell Lucus</td>\n",
       "      <td>House Dem Aide: We Didn’t Even See Comey’s Let...</td>\n",
       "      <td>1</td>\n",
       "    </tr>\n",
       "    <tr>\n",
       "      <th>1</th>\n",
       "      <td>1</td>\n",
       "      <td>FLYNN: Hillary Clinton, Big Woman on Campus - ...</td>\n",
       "      <td>Daniel J. Flynn</td>\n",
       "      <td>Ever get the feeling your life circles the rou...</td>\n",
       "      <td>0</td>\n",
       "    </tr>\n",
       "    <tr>\n",
       "      <th>2</th>\n",
       "      <td>2</td>\n",
       "      <td>Why the Truth Might Get You Fired</td>\n",
       "      <td>Consortiumnews.com</td>\n",
       "      <td>Why the Truth Might Get You Fired October 29, ...</td>\n",
       "      <td>1</td>\n",
       "    </tr>\n",
       "    <tr>\n",
       "      <th>3</th>\n",
       "      <td>3</td>\n",
       "      <td>15 Civilians Killed In Single US Airstrike Hav...</td>\n",
       "      <td>Jessica Purkiss</td>\n",
       "      <td>Videos 15 Civilians Killed In Single US Airstr...</td>\n",
       "      <td>1</td>\n",
       "    </tr>\n",
       "    <tr>\n",
       "      <th>4</th>\n",
       "      <td>4</td>\n",
       "      <td>Iranian woman jailed for fictional unpublished...</td>\n",
       "      <td>Howard Portnoy</td>\n",
       "      <td>Print \\nAn Iranian woman has been sentenced to...</td>\n",
       "      <td>1</td>\n",
       "    </tr>\n",
       "  </tbody>\n",
       "</table>\n",
       "</div>"
      ],
      "text/plain": [
       "   id                                              title              author  \\\n",
       "0   0  House Dem Aide: We Didn’t Even See Comey’s Let...       Darrell Lucus   \n",
       "1   1  FLYNN: Hillary Clinton, Big Woman on Campus - ...     Daniel J. Flynn   \n",
       "2   2                  Why the Truth Might Get You Fired  Consortiumnews.com   \n",
       "3   3  15 Civilians Killed In Single US Airstrike Hav...     Jessica Purkiss   \n",
       "4   4  Iranian woman jailed for fictional unpublished...      Howard Portnoy   \n",
       "\n",
       "                                                text  label  \n",
       "0  House Dem Aide: We Didn’t Even See Comey’s Let...      1  \n",
       "1  Ever get the feeling your life circles the rou...      0  \n",
       "2  Why the Truth Might Get You Fired October 29, ...      1  \n",
       "3  Videos 15 Civilians Killed In Single US Airstr...      1  \n",
       "4  Print \\nAn Iranian woman has been sentenced to...      1  "
      ]
     },
     "execution_count": 4,
     "metadata": {},
     "output_type": "execute_result"
    }
   ],
   "source": [
    "df.head()"
   ]
  },
  {
   "cell_type": "code",
   "execution_count": 5,
   "id": "e67691e6",
   "metadata": {
    "execution": {
     "iopub.execute_input": "2023-08-10T17:40:00.407355Z",
     "iopub.status.busy": "2023-08-10T17:40:00.406944Z",
     "iopub.status.idle": "2023-08-10T17:40:00.446408Z",
     "shell.execute_reply": "2023-08-10T17:40:00.445335Z"
    },
    "papermill": {
     "duration": 0.05588,
     "end_time": "2023-08-10T17:40:00.449040",
     "exception": false,
     "start_time": "2023-08-10T17:40:00.393160",
     "status": "completed"
    },
    "tags": []
   },
   "outputs": [],
   "source": [
    "df=df.fillna('')\n",
    "df1=df1.fillna('')"
   ]
  },
  {
   "cell_type": "code",
   "execution_count": 6,
   "id": "7345c921",
   "metadata": {
    "execution": {
     "iopub.execute_input": "2023-08-10T17:40:00.474610Z",
     "iopub.status.busy": "2023-08-10T17:40:00.474215Z",
     "iopub.status.idle": "2023-08-10T17:40:00.480826Z",
     "shell.execute_reply": "2023-08-10T17:40:00.479706Z"
    },
    "papermill": {
     "duration": 0.022398,
     "end_time": "2023-08-10T17:40:00.483241",
     "exception": false,
     "start_time": "2023-08-10T17:40:00.460843",
     "status": "completed"
    },
    "tags": []
   },
   "outputs": [
    {
     "data": {
      "text/plain": [
       "(5200, 4)"
      ]
     },
     "execution_count": 6,
     "metadata": {},
     "output_type": "execute_result"
    }
   ],
   "source": [
    "df1.shape"
   ]
  },
  {
   "cell_type": "code",
   "execution_count": 7,
   "id": "0af55eb4",
   "metadata": {
    "execution": {
     "iopub.execute_input": "2023-08-10T17:40:00.509173Z",
     "iopub.status.busy": "2023-08-10T17:40:00.508797Z",
     "iopub.status.idle": "2023-08-10T17:40:00.516182Z",
     "shell.execute_reply": "2023-08-10T17:40:00.514982Z"
    },
    "papermill": {
     "duration": 0.023401,
     "end_time": "2023-08-10T17:40:00.518693",
     "exception": false,
     "start_time": "2023-08-10T17:40:00.495292",
     "status": "completed"
    },
    "tags": []
   },
   "outputs": [
    {
     "data": {
      "text/plain": [
       "(20800, 5)"
      ]
     },
     "execution_count": 7,
     "metadata": {},
     "output_type": "execute_result"
    }
   ],
   "source": [
    "df.shape"
   ]
  },
  {
   "cell_type": "code",
   "execution_count": 8,
   "id": "4c1025d9",
   "metadata": {
    "execution": {
     "iopub.execute_input": "2023-08-10T17:40:00.544868Z",
     "iopub.status.busy": "2023-08-10T17:40:00.544449Z",
     "iopub.status.idle": "2023-08-10T17:40:00.557286Z",
     "shell.execute_reply": "2023-08-10T17:40:00.556104Z"
    },
    "papermill": {
     "duration": 0.028556,
     "end_time": "2023-08-10T17:40:00.559672",
     "exception": false,
     "start_time": "2023-08-10T17:40:00.531116",
     "status": "completed"
    },
    "tags": []
   },
   "outputs": [],
   "source": [
    "X=df.drop('label',axis=1)"
   ]
  },
  {
   "cell_type": "code",
   "execution_count": 9,
   "id": "dbd245c8",
   "metadata": {
    "execution": {
     "iopub.execute_input": "2023-08-10T17:40:00.585607Z",
     "iopub.status.busy": "2023-08-10T17:40:00.585202Z",
     "iopub.status.idle": "2023-08-10T17:40:00.597280Z",
     "shell.execute_reply": "2023-08-10T17:40:00.596336Z"
    },
    "papermill": {
     "duration": 0.027496,
     "end_time": "2023-08-10T17:40:00.599342",
     "exception": false,
     "start_time": "2023-08-10T17:40:00.571846",
     "status": "completed"
    },
    "tags": []
   },
   "outputs": [
    {
     "data": {
      "text/html": [
       "<div>\n",
       "<style scoped>\n",
       "    .dataframe tbody tr th:only-of-type {\n",
       "        vertical-align: middle;\n",
       "    }\n",
       "\n",
       "    .dataframe tbody tr th {\n",
       "        vertical-align: top;\n",
       "    }\n",
       "\n",
       "    .dataframe thead th {\n",
       "        text-align: right;\n",
       "    }\n",
       "</style>\n",
       "<table border=\"1\" class=\"dataframe\">\n",
       "  <thead>\n",
       "    <tr style=\"text-align: right;\">\n",
       "      <th></th>\n",
       "      <th>id</th>\n",
       "      <th>title</th>\n",
       "      <th>author</th>\n",
       "      <th>text</th>\n",
       "    </tr>\n",
       "  </thead>\n",
       "  <tbody>\n",
       "    <tr>\n",
       "      <th>0</th>\n",
       "      <td>0</td>\n",
       "      <td>House Dem Aide: We Didn’t Even See Comey’s Let...</td>\n",
       "      <td>Darrell Lucus</td>\n",
       "      <td>House Dem Aide: We Didn’t Even See Comey’s Let...</td>\n",
       "    </tr>\n",
       "    <tr>\n",
       "      <th>1</th>\n",
       "      <td>1</td>\n",
       "      <td>FLYNN: Hillary Clinton, Big Woman on Campus - ...</td>\n",
       "      <td>Daniel J. Flynn</td>\n",
       "      <td>Ever get the feeling your life circles the rou...</td>\n",
       "    </tr>\n",
       "    <tr>\n",
       "      <th>2</th>\n",
       "      <td>2</td>\n",
       "      <td>Why the Truth Might Get You Fired</td>\n",
       "      <td>Consortiumnews.com</td>\n",
       "      <td>Why the Truth Might Get You Fired October 29, ...</td>\n",
       "    </tr>\n",
       "    <tr>\n",
       "      <th>3</th>\n",
       "      <td>3</td>\n",
       "      <td>15 Civilians Killed In Single US Airstrike Hav...</td>\n",
       "      <td>Jessica Purkiss</td>\n",
       "      <td>Videos 15 Civilians Killed In Single US Airstr...</td>\n",
       "    </tr>\n",
       "    <tr>\n",
       "      <th>4</th>\n",
       "      <td>4</td>\n",
       "      <td>Iranian woman jailed for fictional unpublished...</td>\n",
       "      <td>Howard Portnoy</td>\n",
       "      <td>Print \\nAn Iranian woman has been sentenced to...</td>\n",
       "    </tr>\n",
       "  </tbody>\n",
       "</table>\n",
       "</div>"
      ],
      "text/plain": [
       "   id                                              title              author  \\\n",
       "0   0  House Dem Aide: We Didn’t Even See Comey’s Let...       Darrell Lucus   \n",
       "1   1  FLYNN: Hillary Clinton, Big Woman on Campus - ...     Daniel J. Flynn   \n",
       "2   2                  Why the Truth Might Get You Fired  Consortiumnews.com   \n",
       "3   3  15 Civilians Killed In Single US Airstrike Hav...     Jessica Purkiss   \n",
       "4   4  Iranian woman jailed for fictional unpublished...      Howard Portnoy   \n",
       "\n",
       "                                                text  \n",
       "0  House Dem Aide: We Didn’t Even See Comey’s Let...  \n",
       "1  Ever get the feeling your life circles the rou...  \n",
       "2  Why the Truth Might Get You Fired October 29, ...  \n",
       "3  Videos 15 Civilians Killed In Single US Airstr...  \n",
       "4  Print \\nAn Iranian woman has been sentenced to...  "
      ]
     },
     "execution_count": 9,
     "metadata": {},
     "output_type": "execute_result"
    }
   ],
   "source": [
    "X.head()"
   ]
  },
  {
   "cell_type": "code",
   "execution_count": 10,
   "id": "12e58b61",
   "metadata": {
    "execution": {
     "iopub.execute_input": "2023-08-10T17:40:00.625820Z",
     "iopub.status.busy": "2023-08-10T17:40:00.625369Z",
     "iopub.status.idle": "2023-08-10T17:40:00.630964Z",
     "shell.execute_reply": "2023-08-10T17:40:00.629573Z"
    },
    "papermill": {
     "duration": 0.021409,
     "end_time": "2023-08-10T17:40:00.633236",
     "exception": false,
     "start_time": "2023-08-10T17:40:00.611827",
     "status": "completed"
    },
    "tags": []
   },
   "outputs": [],
   "source": [
    "y=df['label']"
   ]
  },
  {
   "cell_type": "code",
   "execution_count": 11,
   "id": "31bc67cb",
   "metadata": {
    "execution": {
     "iopub.execute_input": "2023-08-10T17:40:00.659703Z",
     "iopub.status.busy": "2023-08-10T17:40:00.659247Z",
     "iopub.status.idle": "2023-08-10T17:40:00.667523Z",
     "shell.execute_reply": "2023-08-10T17:40:00.666284Z"
    },
    "papermill": {
     "duration": 0.024214,
     "end_time": "2023-08-10T17:40:00.669885",
     "exception": false,
     "start_time": "2023-08-10T17:40:00.645671",
     "status": "completed"
    },
    "tags": []
   },
   "outputs": [
    {
     "data": {
      "text/plain": [
       "0    1\n",
       "1    0\n",
       "2    1\n",
       "3    1\n",
       "4    1\n",
       "Name: label, dtype: int64"
      ]
     },
     "execution_count": 11,
     "metadata": {},
     "output_type": "execute_result"
    }
   ],
   "source": [
    "y.head()"
   ]
  },
  {
   "cell_type": "code",
   "execution_count": 12,
   "id": "5e509936",
   "metadata": {
    "execution": {
     "iopub.execute_input": "2023-08-10T17:40:00.696964Z",
     "iopub.status.busy": "2023-08-10T17:40:00.696544Z",
     "iopub.status.idle": "2023-08-10T17:40:00.703474Z",
     "shell.execute_reply": "2023-08-10T17:40:00.702417Z"
    },
    "papermill": {
     "duration": 0.023131,
     "end_time": "2023-08-10T17:40:00.705711",
     "exception": false,
     "start_time": "2023-08-10T17:40:00.682580",
     "status": "completed"
    },
    "tags": []
   },
   "outputs": [
    {
     "data": {
      "text/plain": [
       "(20800,)"
      ]
     },
     "execution_count": 12,
     "metadata": {},
     "output_type": "execute_result"
    }
   ],
   "source": [
    "y.shape"
   ]
  },
  {
   "cell_type": "code",
   "execution_count": 13,
   "id": "fdceaec0",
   "metadata": {
    "execution": {
     "iopub.execute_input": "2023-08-10T17:40:00.733202Z",
     "iopub.status.busy": "2023-08-10T17:40:00.732727Z",
     "iopub.status.idle": "2023-08-10T17:40:00.738707Z",
     "shell.execute_reply": "2023-08-10T17:40:00.737480Z"
    },
    "papermill": {
     "duration": 0.023031,
     "end_time": "2023-08-10T17:40:00.741495",
     "exception": false,
     "start_time": "2023-08-10T17:40:00.718464",
     "status": "completed"
    },
    "tags": []
   },
   "outputs": [],
   "source": [
    "from tensorflow import keras"
   ]
  },
  {
   "cell_type": "code",
   "execution_count": 14,
   "id": "aa39d305",
   "metadata": {
    "execution": {
     "iopub.execute_input": "2023-08-10T17:40:00.768905Z",
     "iopub.status.busy": "2023-08-10T17:40:00.768533Z",
     "iopub.status.idle": "2023-08-10T17:40:00.774538Z",
     "shell.execute_reply": "2023-08-10T17:40:00.773423Z"
    },
    "papermill": {
     "duration": 0.022006,
     "end_time": "2023-08-10T17:40:00.776784",
     "exception": false,
     "start_time": "2023-08-10T17:40:00.754778",
     "status": "completed"
    },
    "tags": []
   },
   "outputs": [],
   "source": [
    "from keras.utils import pad_sequences\n",
    "from keras.layers import Embedding\n",
    "from keras.models import Sequential\n",
    "from keras.layers import LSTM\n",
    "from keras.layers import Dense\n",
    "from keras.preprocessing.text import one_hot\n"
   ]
  },
  {
   "cell_type": "code",
   "execution_count": 15,
   "id": "71946fc3",
   "metadata": {
    "execution": {
     "iopub.execute_input": "2023-08-10T17:40:00.803619Z",
     "iopub.status.busy": "2023-08-10T17:40:00.803218Z",
     "iopub.status.idle": "2023-08-10T17:40:00.808232Z",
     "shell.execute_reply": "2023-08-10T17:40:00.807122Z"
    },
    "papermill": {
     "duration": 0.021102,
     "end_time": "2023-08-10T17:40:00.810471",
     "exception": false,
     "start_time": "2023-08-10T17:40:00.789369",
     "status": "completed"
    },
    "tags": []
   },
   "outputs": [],
   "source": [
    "voc_size=5000"
   ]
  },
  {
   "cell_type": "code",
   "execution_count": 16,
   "id": "287e095f",
   "metadata": {
    "execution": {
     "iopub.execute_input": "2023-08-10T17:40:00.837284Z",
     "iopub.status.busy": "2023-08-10T17:40:00.836898Z",
     "iopub.status.idle": "2023-08-10T17:40:00.841713Z",
     "shell.execute_reply": "2023-08-10T17:40:00.840653Z"
    },
    "papermill": {
     "duration": 0.0209,
     "end_time": "2023-08-10T17:40:00.843992",
     "exception": false,
     "start_time": "2023-08-10T17:40:00.823092",
     "status": "completed"
    },
    "tags": []
   },
   "outputs": [],
   "source": [
    "# Text Preprocessing"
   ]
  },
  {
   "cell_type": "code",
   "execution_count": 17,
   "id": "33c624df",
   "metadata": {
    "execution": {
     "iopub.execute_input": "2023-08-10T17:40:00.870939Z",
     "iopub.status.busy": "2023-08-10T17:40:00.870567Z",
     "iopub.status.idle": "2023-08-10T17:40:02.689673Z",
     "shell.execute_reply": "2023-08-10T17:40:02.688463Z"
    },
    "papermill": {
     "duration": 1.835728,
     "end_time": "2023-08-10T17:40:02.692606",
     "exception": false,
     "start_time": "2023-08-10T17:40:00.856878",
     "status": "completed"
    },
    "tags": []
   },
   "outputs": [],
   "source": [
    "from keras.layers import Embedding,Dense,LSTM\n",
    "from keras.models import Sequential\n",
    "from keras.utils import pad_sequences\n",
    "from keras.preprocessing.text import one_hot\n",
    "import nltk\n",
    "import re\n",
    "from nltk.corpus import stopwords\n"
   ]
  },
  {
   "cell_type": "code",
   "execution_count": 18,
   "id": "244166e0",
   "metadata": {
    "execution": {
     "iopub.execute_input": "2023-08-10T17:40:02.720039Z",
     "iopub.status.busy": "2023-08-10T17:40:02.719607Z",
     "iopub.status.idle": "2023-08-10T17:40:02.736053Z",
     "shell.execute_reply": "2023-08-10T17:40:02.734892Z"
    },
    "papermill": {
     "duration": 0.033093,
     "end_time": "2023-08-10T17:40:02.738648",
     "exception": false,
     "start_time": "2023-08-10T17:40:02.705555",
     "status": "completed"
    },
    "tags": []
   },
   "outputs": [
    {
     "data": {
      "text/html": [
       "<div>\n",
       "<style scoped>\n",
       "    .dataframe tbody tr th:only-of-type {\n",
       "        vertical-align: middle;\n",
       "    }\n",
       "\n",
       "    .dataframe tbody tr th {\n",
       "        vertical-align: top;\n",
       "    }\n",
       "\n",
       "    .dataframe thead th {\n",
       "        text-align: right;\n",
       "    }\n",
       "</style>\n",
       "<table border=\"1\" class=\"dataframe\">\n",
       "  <thead>\n",
       "    <tr style=\"text-align: right;\">\n",
       "      <th></th>\n",
       "      <th>id</th>\n",
       "      <th>title</th>\n",
       "      <th>author</th>\n",
       "      <th>text</th>\n",
       "    </tr>\n",
       "  </thead>\n",
       "  <tbody>\n",
       "    <tr>\n",
       "      <th>0</th>\n",
       "      <td>0</td>\n",
       "      <td>House Dem Aide: We Didn’t Even See Comey’s Let...</td>\n",
       "      <td>Darrell Lucus</td>\n",
       "      <td>House Dem Aide: We Didn’t Even See Comey’s Let...</td>\n",
       "    </tr>\n",
       "    <tr>\n",
       "      <th>1</th>\n",
       "      <td>1</td>\n",
       "      <td>FLYNN: Hillary Clinton, Big Woman on Campus - ...</td>\n",
       "      <td>Daniel J. Flynn</td>\n",
       "      <td>Ever get the feeling your life circles the rou...</td>\n",
       "    </tr>\n",
       "    <tr>\n",
       "      <th>2</th>\n",
       "      <td>2</td>\n",
       "      <td>Why the Truth Might Get You Fired</td>\n",
       "      <td>Consortiumnews.com</td>\n",
       "      <td>Why the Truth Might Get You Fired October 29, ...</td>\n",
       "    </tr>\n",
       "    <tr>\n",
       "      <th>3</th>\n",
       "      <td>3</td>\n",
       "      <td>15 Civilians Killed In Single US Airstrike Hav...</td>\n",
       "      <td>Jessica Purkiss</td>\n",
       "      <td>Videos 15 Civilians Killed In Single US Airstr...</td>\n",
       "    </tr>\n",
       "    <tr>\n",
       "      <th>4</th>\n",
       "      <td>4</td>\n",
       "      <td>Iranian woman jailed for fictional unpublished...</td>\n",
       "      <td>Howard Portnoy</td>\n",
       "      <td>Print \\nAn Iranian woman has been sentenced to...</td>\n",
       "    </tr>\n",
       "    <tr>\n",
       "      <th>...</th>\n",
       "      <td>...</td>\n",
       "      <td>...</td>\n",
       "      <td>...</td>\n",
       "      <td>...</td>\n",
       "    </tr>\n",
       "    <tr>\n",
       "      <th>20795</th>\n",
       "      <td>20795</td>\n",
       "      <td>Rapper T.I.: Trump a ’Poster Child For White S...</td>\n",
       "      <td>Jerome Hudson</td>\n",
       "      <td>Rapper T. I. unloaded on black celebrities who...</td>\n",
       "    </tr>\n",
       "    <tr>\n",
       "      <th>20796</th>\n",
       "      <td>20796</td>\n",
       "      <td>N.F.L. Playoffs: Schedule, Matchups and Odds -...</td>\n",
       "      <td>Benjamin Hoffman</td>\n",
       "      <td>When the Green Bay Packers lost to the Washing...</td>\n",
       "    </tr>\n",
       "    <tr>\n",
       "      <th>20797</th>\n",
       "      <td>20797</td>\n",
       "      <td>Macy’s Is Said to Receive Takeover Approach by...</td>\n",
       "      <td>Michael J. de la Merced and Rachel Abrams</td>\n",
       "      <td>The Macy’s of today grew from the union of sev...</td>\n",
       "    </tr>\n",
       "    <tr>\n",
       "      <th>20798</th>\n",
       "      <td>20798</td>\n",
       "      <td>NATO, Russia To Hold Parallel Exercises In Bal...</td>\n",
       "      <td>Alex Ansary</td>\n",
       "      <td>NATO, Russia To Hold Parallel Exercises In Bal...</td>\n",
       "    </tr>\n",
       "    <tr>\n",
       "      <th>20799</th>\n",
       "      <td>20799</td>\n",
       "      <td>What Keeps the F-35 Alive</td>\n",
       "      <td>David Swanson</td>\n",
       "      <td>David Swanson is an author, activist, journa...</td>\n",
       "    </tr>\n",
       "  </tbody>\n",
       "</table>\n",
       "<p>20800 rows × 4 columns</p>\n",
       "</div>"
      ],
      "text/plain": [
       "          id                                              title  \\\n",
       "0          0  House Dem Aide: We Didn’t Even See Comey’s Let...   \n",
       "1          1  FLYNN: Hillary Clinton, Big Woman on Campus - ...   \n",
       "2          2                  Why the Truth Might Get You Fired   \n",
       "3          3  15 Civilians Killed In Single US Airstrike Hav...   \n",
       "4          4  Iranian woman jailed for fictional unpublished...   \n",
       "...      ...                                                ...   \n",
       "20795  20795  Rapper T.I.: Trump a ’Poster Child For White S...   \n",
       "20796  20796  N.F.L. Playoffs: Schedule, Matchups and Odds -...   \n",
       "20797  20797  Macy’s Is Said to Receive Takeover Approach by...   \n",
       "20798  20798  NATO, Russia To Hold Parallel Exercises In Bal...   \n",
       "20799  20799                          What Keeps the F-35 Alive   \n",
       "\n",
       "                                          author  \\\n",
       "0                                  Darrell Lucus   \n",
       "1                                Daniel J. Flynn   \n",
       "2                             Consortiumnews.com   \n",
       "3                                Jessica Purkiss   \n",
       "4                                 Howard Portnoy   \n",
       "...                                          ...   \n",
       "20795                              Jerome Hudson   \n",
       "20796                           Benjamin Hoffman   \n",
       "20797  Michael J. de la Merced and Rachel Abrams   \n",
       "20798                                Alex Ansary   \n",
       "20799                              David Swanson   \n",
       "\n",
       "                                                    text  \n",
       "0      House Dem Aide: We Didn’t Even See Comey’s Let...  \n",
       "1      Ever get the feeling your life circles the rou...  \n",
       "2      Why the Truth Might Get You Fired October 29, ...  \n",
       "3      Videos 15 Civilians Killed In Single US Airstr...  \n",
       "4      Print \\nAn Iranian woman has been sentenced to...  \n",
       "...                                                  ...  \n",
       "20795  Rapper T. I. unloaded on black celebrities who...  \n",
       "20796  When the Green Bay Packers lost to the Washing...  \n",
       "20797  The Macy’s of today grew from the union of sev...  \n",
       "20798  NATO, Russia To Hold Parallel Exercises In Bal...  \n",
       "20799    David Swanson is an author, activist, journa...  \n",
       "\n",
       "[20800 rows x 4 columns]"
      ]
     },
     "execution_count": 18,
     "metadata": {},
     "output_type": "execute_result"
    }
   ],
   "source": [
    "X"
   ]
  },
  {
   "cell_type": "markdown",
   "id": "e0586a6e",
   "metadata": {
    "papermill": {
     "duration": 0.013309,
     "end_time": "2023-08-10T17:40:02.765207",
     "exception": false,
     "start_time": "2023-08-10T17:40:02.751898",
     "status": "completed"
    },
    "tags": []
   },
   "source": [
    "#### One Hot Representation"
   ]
  },
  {
   "cell_type": "code",
   "execution_count": 19,
   "id": "174d6f33",
   "metadata": {
    "execution": {
     "iopub.execute_input": "2023-08-10T17:40:02.793429Z",
     "iopub.status.busy": "2023-08-10T17:40:02.793037Z",
     "iopub.status.idle": "2023-08-10T17:40:02.802851Z",
     "shell.execute_reply": "2023-08-10T17:40:02.801616Z"
    },
    "papermill": {
     "duration": 0.02704,
     "end_time": "2023-08-10T17:40:02.805536",
     "exception": false,
     "start_time": "2023-08-10T17:40:02.778496",
     "status": "completed"
    },
    "tags": []
   },
   "outputs": [],
   "source": [
    "X=X.drop('id',axis=1)"
   ]
  },
  {
   "cell_type": "code",
   "execution_count": 20,
   "id": "5fe4bd20",
   "metadata": {
    "execution": {
     "iopub.execute_input": "2023-08-10T17:40:02.833939Z",
     "iopub.status.busy": "2023-08-10T17:40:02.833492Z",
     "iopub.status.idle": "2023-08-10T17:40:02.847223Z",
     "shell.execute_reply": "2023-08-10T17:40:02.846115Z"
    },
    "papermill": {
     "duration": 0.03135,
     "end_time": "2023-08-10T17:40:02.850209",
     "exception": false,
     "start_time": "2023-08-10T17:40:02.818859",
     "status": "completed"
    },
    "tags": []
   },
   "outputs": [],
   "source": [
    "X=X.reset_index(drop=True)\n",
    "df1=df1.reset_index(drop=True)"
   ]
  },
  {
   "cell_type": "code",
   "execution_count": 21,
   "id": "52170a4f",
   "metadata": {
    "execution": {
     "iopub.execute_input": "2023-08-10T17:40:02.878161Z",
     "iopub.status.busy": "2023-08-10T17:40:02.877766Z",
     "iopub.status.idle": "2023-08-10T17:40:02.883742Z",
     "shell.execute_reply": "2023-08-10T17:40:02.882936Z"
    },
    "papermill": {
     "duration": 0.022485,
     "end_time": "2023-08-10T17:40:02.885884",
     "exception": false,
     "start_time": "2023-08-10T17:40:02.863399",
     "status": "completed"
    },
    "tags": []
   },
   "outputs": [],
   "source": [
    "messages=X.copy()\n",
    "messages1=df1.copy()"
   ]
  },
  {
   "cell_type": "code",
   "execution_count": 22,
   "id": "b25fb8b4",
   "metadata": {
    "execution": {
     "iopub.execute_input": "2023-08-10T17:40:02.914667Z",
     "iopub.status.busy": "2023-08-10T17:40:02.914244Z",
     "iopub.status.idle": "2023-08-10T17:40:02.929951Z",
     "shell.execute_reply": "2023-08-10T17:40:02.928548Z"
    },
    "papermill": {
     "duration": 0.033426,
     "end_time": "2023-08-10T17:40:02.932443",
     "exception": false,
     "start_time": "2023-08-10T17:40:02.899017",
     "status": "completed"
    },
    "tags": []
   },
   "outputs": [
    {
     "data": {
      "text/html": [
       "<div>\n",
       "<style scoped>\n",
       "    .dataframe tbody tr th:only-of-type {\n",
       "        vertical-align: middle;\n",
       "    }\n",
       "\n",
       "    .dataframe tbody tr th {\n",
       "        vertical-align: top;\n",
       "    }\n",
       "\n",
       "    .dataframe thead th {\n",
       "        text-align: right;\n",
       "    }\n",
       "</style>\n",
       "<table border=\"1\" class=\"dataframe\">\n",
       "  <thead>\n",
       "    <tr style=\"text-align: right;\">\n",
       "      <th></th>\n",
       "      <th>id</th>\n",
       "      <th>title</th>\n",
       "      <th>author</th>\n",
       "      <th>text</th>\n",
       "    </tr>\n",
       "  </thead>\n",
       "  <tbody>\n",
       "    <tr>\n",
       "      <th>0</th>\n",
       "      <td>20800</td>\n",
       "      <td>Specter of Trump Loosens Tongues, if Not Purse...</td>\n",
       "      <td>David Streitfeld</td>\n",
       "      <td>PALO ALTO, Calif.  —   After years of scorning...</td>\n",
       "    </tr>\n",
       "    <tr>\n",
       "      <th>1</th>\n",
       "      <td>20801</td>\n",
       "      <td>Russian warships ready to strike terrorists ne...</td>\n",
       "      <td></td>\n",
       "      <td>Russian warships ready to strike terrorists ne...</td>\n",
       "    </tr>\n",
       "    <tr>\n",
       "      <th>2</th>\n",
       "      <td>20802</td>\n",
       "      <td>#NoDAPL: Native American Leaders Vow to Stay A...</td>\n",
       "      <td>Common Dreams</td>\n",
       "      <td>Videos #NoDAPL: Native American Leaders Vow to...</td>\n",
       "    </tr>\n",
       "    <tr>\n",
       "      <th>3</th>\n",
       "      <td>20803</td>\n",
       "      <td>Tim Tebow Will Attempt Another Comeback, This ...</td>\n",
       "      <td>Daniel Victor</td>\n",
       "      <td>If at first you don’t succeed, try a different...</td>\n",
       "    </tr>\n",
       "    <tr>\n",
       "      <th>4</th>\n",
       "      <td>20804</td>\n",
       "      <td>Keiser Report: Meme Wars (E995)</td>\n",
       "      <td>Truth Broadcast Network</td>\n",
       "      <td>42 mins ago 1 Views 0 Comments 0 Likes 'For th...</td>\n",
       "    </tr>\n",
       "    <tr>\n",
       "      <th>...</th>\n",
       "      <td>...</td>\n",
       "      <td>...</td>\n",
       "      <td>...</td>\n",
       "      <td>...</td>\n",
       "    </tr>\n",
       "    <tr>\n",
       "      <th>5195</th>\n",
       "      <td>25995</td>\n",
       "      <td>The Bangladeshi Traffic Jam That Never Ends - ...</td>\n",
       "      <td>Jody Rosen</td>\n",
       "      <td>Of all the dysfunctions that plague the world’...</td>\n",
       "    </tr>\n",
       "    <tr>\n",
       "      <th>5196</th>\n",
       "      <td>25996</td>\n",
       "      <td>John Kasich Signs One Abortion Bill in Ohio bu...</td>\n",
       "      <td>Sheryl Gay Stolberg</td>\n",
       "      <td>WASHINGTON  —   Gov. John Kasich of Ohio on Tu...</td>\n",
       "    </tr>\n",
       "    <tr>\n",
       "      <th>5197</th>\n",
       "      <td>25997</td>\n",
       "      <td>California Today: What, Exactly, Is in Your Su...</td>\n",
       "      <td>Mike McPhate</td>\n",
       "      <td>Good morning. (Want to get California Today by...</td>\n",
       "    </tr>\n",
       "    <tr>\n",
       "      <th>5198</th>\n",
       "      <td>25998</td>\n",
       "      <td>300 US Marines To Be Deployed To Russian Borde...</td>\n",
       "      <td></td>\n",
       "      <td>« Previous - Next » 300 US Marines To Be Deplo...</td>\n",
       "    </tr>\n",
       "    <tr>\n",
       "      <th>5199</th>\n",
       "      <td>25999</td>\n",
       "      <td>Awkward Sex, Onscreen and Off - The New York T...</td>\n",
       "      <td>Teddy Wayne</td>\n",
       "      <td>Perhaps you’ve seen the new TV series whose pi...</td>\n",
       "    </tr>\n",
       "  </tbody>\n",
       "</table>\n",
       "<p>5200 rows × 4 columns</p>\n",
       "</div>"
      ],
      "text/plain": [
       "         id                                              title  \\\n",
       "0     20800  Specter of Trump Loosens Tongues, if Not Purse...   \n",
       "1     20801  Russian warships ready to strike terrorists ne...   \n",
       "2     20802  #NoDAPL: Native American Leaders Vow to Stay A...   \n",
       "3     20803  Tim Tebow Will Attempt Another Comeback, This ...   \n",
       "4     20804                    Keiser Report: Meme Wars (E995)   \n",
       "...     ...                                                ...   \n",
       "5195  25995  The Bangladeshi Traffic Jam That Never Ends - ...   \n",
       "5196  25996  John Kasich Signs One Abortion Bill in Ohio bu...   \n",
       "5197  25997  California Today: What, Exactly, Is in Your Su...   \n",
       "5198  25998  300 US Marines To Be Deployed To Russian Borde...   \n",
       "5199  25999  Awkward Sex, Onscreen and Off - The New York T...   \n",
       "\n",
       "                       author  \\\n",
       "0            David Streitfeld   \n",
       "1                               \n",
       "2               Common Dreams   \n",
       "3               Daniel Victor   \n",
       "4     Truth Broadcast Network   \n",
       "...                       ...   \n",
       "5195               Jody Rosen   \n",
       "5196      Sheryl Gay Stolberg   \n",
       "5197             Mike McPhate   \n",
       "5198                            \n",
       "5199              Teddy Wayne   \n",
       "\n",
       "                                                   text  \n",
       "0     PALO ALTO, Calif.  —   After years of scorning...  \n",
       "1     Russian warships ready to strike terrorists ne...  \n",
       "2     Videos #NoDAPL: Native American Leaders Vow to...  \n",
       "3     If at first you don’t succeed, try a different...  \n",
       "4     42 mins ago 1 Views 0 Comments 0 Likes 'For th...  \n",
       "...                                                 ...  \n",
       "5195  Of all the dysfunctions that plague the world’...  \n",
       "5196  WASHINGTON  —   Gov. John Kasich of Ohio on Tu...  \n",
       "5197  Good morning. (Want to get California Today by...  \n",
       "5198  « Previous - Next » 300 US Marines To Be Deplo...  \n",
       "5199  Perhaps you’ve seen the new TV series whose pi...  \n",
       "\n",
       "[5200 rows x 4 columns]"
      ]
     },
     "execution_count": 22,
     "metadata": {},
     "output_type": "execute_result"
    }
   ],
   "source": [
    "messages1"
   ]
  },
  {
   "cell_type": "code",
   "execution_count": 23,
   "id": "651c4b17",
   "metadata": {
    "execution": {
     "iopub.execute_input": "2023-08-10T17:40:02.962208Z",
     "iopub.status.busy": "2023-08-10T17:40:02.961777Z",
     "iopub.status.idle": "2023-08-10T17:40:46.365298Z",
     "shell.execute_reply": "2023-08-10T17:40:46.364265Z"
    },
    "papermill": {
     "duration": 43.422462,
     "end_time": "2023-08-10T17:40:46.368691",
     "exception": false,
     "start_time": "2023-08-10T17:40:02.946229",
     "status": "completed"
    },
    "tags": []
   },
   "outputs": [],
   "source": [
    "## DataPreprocessing\n",
    "from nltk.stem.porter import PorterStemmer\n",
    "ps = PorterStemmer()\n",
    "corpus = []\n",
    "for i in range(0,len(messages)):\n",
    "    review = re.sub('[^a-zA-Z]',' ',messages['title'][i])\n",
    "    review = review.lower()\n",
    "    review = review.split()\n",
    "\n",
    "    review = [ps.stem(word) for word in review if not word in stopwords.words('english')]\n",
    "    review = ' '.join(review)\n",
    "    \n",
    "    corpus.append(review)"
   ]
  },
  {
   "cell_type": "code",
   "execution_count": 24,
   "id": "969de0ab",
   "metadata": {
    "execution": {
     "iopub.execute_input": "2023-08-10T17:40:46.397894Z",
     "iopub.status.busy": "2023-08-10T17:40:46.397516Z",
     "iopub.status.idle": "2023-08-10T17:40:57.190789Z",
     "shell.execute_reply": "2023-08-10T17:40:57.189626Z"
    },
    "papermill": {
     "duration": 10.811254,
     "end_time": "2023-08-10T17:40:57.193874",
     "exception": false,
     "start_time": "2023-08-10T17:40:46.382620",
     "status": "completed"
    },
    "tags": []
   },
   "outputs": [],
   "source": [
    "## DataPreprocessing\n",
    "from nltk.stem.porter import PorterStemmer\n",
    "ps = PorterStemmer()\n",
    "corpus_test = []\n",
    "for i in range(0,len(messages1)):\n",
    "    review = re.sub('[^a-zA-Z]',' ',messages1['title'][i])\n",
    "    review = review.lower()\n",
    "    review = review.split()\n",
    "\n",
    "    review = [ps.stem(word) for word in review if not word in stopwords.words('english')]\n",
    "    review = ' '.join(review)\n",
    "    \n",
    "    corpus_test.append(review)"
   ]
  },
  {
   "cell_type": "code",
   "execution_count": 25,
   "id": "a68c10cd",
   "metadata": {
    "execution": {
     "iopub.execute_input": "2023-08-10T17:40:57.222750Z",
     "iopub.status.busy": "2023-08-10T17:40:57.222307Z",
     "iopub.status.idle": "2023-08-10T17:40:57.658086Z",
     "shell.execute_reply": "2023-08-10T17:40:57.656869Z"
    },
    "papermill": {
     "duration": 0.453726,
     "end_time": "2023-08-10T17:40:57.661174",
     "exception": false,
     "start_time": "2023-08-10T17:40:57.207448",
     "status": "completed"
    },
    "tags": []
   },
   "outputs": [],
   "source": [
    "onehot_repr = [one_hot(words,voc_size)for words in corpus]\n",
    "onehot_repr_test = [one_hot(words,voc_size)for words in corpus_test]"
   ]
  },
  {
   "cell_type": "code",
   "execution_count": 26,
   "id": "d3365a34",
   "metadata": {
    "execution": {
     "iopub.execute_input": "2023-08-10T17:40:57.690357Z",
     "iopub.status.busy": "2023-08-10T17:40:57.689959Z",
     "iopub.status.idle": "2023-08-10T17:40:57.816791Z",
     "shell.execute_reply": "2023-08-10T17:40:57.815768Z"
    },
    "papermill": {
     "duration": 0.144756,
     "end_time": "2023-08-10T17:40:57.819630",
     "exception": false,
     "start_time": "2023-08-10T17:40:57.674874",
     "status": "completed"
    },
    "tags": []
   },
   "outputs": [],
   "source": [
    "## Embedding\n",
    "sent_length = 20\n",
    "embedded_docs = pad_sequences(onehot_repr,padding='pre',maxlen=sent_length)\n",
    "embedded_docs_test = pad_sequences(onehot_repr_test,padding='pre',maxlen=sent_length)"
   ]
  },
  {
   "cell_type": "code",
   "execution_count": 27,
   "id": "713c63d1",
   "metadata": {
    "execution": {
     "iopub.execute_input": "2023-08-10T17:40:57.848456Z",
     "iopub.status.busy": "2023-08-10T17:40:57.847988Z",
     "iopub.status.idle": "2023-08-10T17:40:58.436177Z",
     "shell.execute_reply": "2023-08-10T17:40:58.435000Z"
    },
    "papermill": {
     "duration": 0.607623,
     "end_time": "2023-08-10T17:40:58.440854",
     "exception": false,
     "start_time": "2023-08-10T17:40:57.833231",
     "status": "completed"
    },
    "tags": []
   },
   "outputs": [
    {
     "name": "stdout",
     "output_type": "stream",
     "text": [
      "Model: \"sequential\"\n",
      "_________________________________________________________________\n",
      " Layer (type)                Output Shape              Param #   \n",
      "=================================================================\n",
      " embedding (Embedding)       (None, 20, 40)            200000    \n",
      "                                                                 \n",
      " lstm (LSTM)                 (None, 100)               56400     \n",
      "                                                                 \n",
      " dense (Dense)               (None, 1)                 101       \n",
      "                                                                 \n",
      "=================================================================\n",
      "Total params: 256,501\n",
      "Trainable params: 256,501\n",
      "Non-trainable params: 0\n",
      "_________________________________________________________________\n",
      "None\n"
     ]
    }
   ],
   "source": [
    "#MODEL:\n",
    "embedding_vector_features=40\n",
    "model=Sequential()\n",
    "model.add(Embedding(voc_size,embedding_vector_features,input_length=sent_length))\n",
    "model.add(LSTM(100))\n",
    "model.add(Dense(1,activation='sigmoid'))\n",
    "model.compile(loss='binary_crossentropy',optimizer='adam',metrics=['accuracy'])\n",
    "print(model.summary())"
   ]
  },
  {
   "cell_type": "code",
   "execution_count": 28,
   "id": "f6270e62",
   "metadata": {
    "execution": {
     "iopub.execute_input": "2023-08-10T17:40:58.472177Z",
     "iopub.status.busy": "2023-08-10T17:40:58.471801Z",
     "iopub.status.idle": "2023-08-10T17:40:58.481638Z",
     "shell.execute_reply": "2023-08-10T17:40:58.480462Z"
    },
    "papermill": {
     "duration": 0.02842,
     "end_time": "2023-08-10T17:40:58.484021",
     "exception": false,
     "start_time": "2023-08-10T17:40:58.455601",
     "status": "completed"
    },
    "tags": []
   },
   "outputs": [
    {
     "data": {
      "text/plain": [
       "(5200, 20)"
      ]
     },
     "execution_count": 28,
     "metadata": {},
     "output_type": "execute_result"
    }
   ],
   "source": [
    "import numpy as np\n",
    "X_final=np.array(embedded_docs)\n",
    "y_final=np.array(y)\n",
    "test_final = np.array(embedded_docs_test)\n",
    "X_final.shape,y_final.shape\n",
    "test_final.shape\n"
   ]
  },
  {
   "cell_type": "code",
   "execution_count": 29,
   "id": "8ae92dfb",
   "metadata": {
    "execution": {
     "iopub.execute_input": "2023-08-10T17:40:58.515998Z",
     "iopub.status.busy": "2023-08-10T17:40:58.515587Z",
     "iopub.status.idle": "2023-08-10T17:43:22.688451Z",
     "shell.execute_reply": "2023-08-10T17:43:22.687156Z"
    },
    "papermill": {
     "duration": 144.32862,
     "end_time": "2023-08-10T17:43:22.827473",
     "exception": false,
     "start_time": "2023-08-10T17:40:58.498853",
     "status": "completed"
    },
    "tags": []
   },
   "outputs": [
    {
     "name": "stdout",
     "output_type": "stream",
     "text": [
      "Epoch 1/10\n",
      "325/325 [==============================] - 11s 25ms/step - loss: 0.2703 - accuracy: 0.8837\n",
      "Epoch 2/10\n",
      "325/325 [==============================] - 8s 26ms/step - loss: 0.1371 - accuracy: 0.9462\n",
      "Epoch 3/10\n",
      "325/325 [==============================] - 8s 26ms/step - loss: 0.1067 - accuracy: 0.9599\n",
      "Epoch 4/10\n",
      "325/325 [==============================] - 8s 25ms/step - loss: 0.0867 - accuracy: 0.9679\n",
      "Epoch 5/10\n",
      "325/325 [==============================] - 8s 26ms/step - loss: 0.0688 - accuracy: 0.9763\n",
      "Epoch 6/10\n",
      "325/325 [==============================] - 9s 26ms/step - loss: 0.0498 - accuracy: 0.9831\n",
      "Epoch 7/10\n",
      "325/325 [==============================] - 8s 26ms/step - loss: 0.0356 - accuracy: 0.9882\n",
      "Epoch 8/10\n",
      "325/325 [==============================] - 8s 25ms/step - loss: 0.0254 - accuracy: 0.9915\n",
      "Epoch 9/10\n",
      "325/325 [==============================] - 8s 25ms/step - loss: 0.0186 - accuracy: 0.9942\n",
      "Epoch 10/10\n",
      "325/325 [==============================] - 8s 26ms/step - loss: 0.0131 - accuracy: 0.9962\n"
     ]
    },
    {
     "data": {
      "text/plain": [
       "<keras.callbacks.History at 0x799c185a2c80>"
      ]
     },
     "execution_count": 29,
     "metadata": {},
     "output_type": "execute_result"
    }
   ],
   "source": [
    "model.fit(X_final, y,epochs=10, batch_size=64, verbose=1)"
   ]
  },
  {
   "cell_type": "code",
   "execution_count": 30,
   "id": "39b680ba",
   "metadata": {
    "execution": {
     "iopub.execute_input": "2023-08-10T17:43:23.110590Z",
     "iopub.status.busy": "2023-08-10T17:43:23.110057Z",
     "iopub.status.idle": "2023-08-10T17:43:24.923179Z",
     "shell.execute_reply": "2023-08-10T17:43:24.922111Z"
    },
    "papermill": {
     "duration": 1.959716,
     "end_time": "2023-08-10T17:43:24.926009",
     "exception": false,
     "start_time": "2023-08-10T17:43:22.966293",
     "status": "completed"
    },
    "tags": []
   },
   "outputs": [
    {
     "name": "stdout",
     "output_type": "stream",
     "text": [
      "163/163 [==============================] - 2s 7ms/step\n"
     ]
    }
   ],
   "source": [
    "y_pred = (model.predict(test_final) > 0.5).astype(\"int32\")"
   ]
  },
  {
   "cell_type": "code",
   "execution_count": 31,
   "id": "fef8c389",
   "metadata": {
    "execution": {
     "iopub.execute_input": "2023-08-10T17:43:25.252367Z",
     "iopub.status.busy": "2023-08-10T17:43:25.251524Z",
     "iopub.status.idle": "2023-08-10T17:43:25.258474Z",
     "shell.execute_reply": "2023-08-10T17:43:25.257582Z"
    },
    "papermill": {
     "duration": 0.178372,
     "end_time": "2023-08-10T17:43:25.260837",
     "exception": false,
     "start_time": "2023-08-10T17:43:25.082465",
     "status": "completed"
    },
    "tags": []
   },
   "outputs": [
    {
     "data": {
      "text/plain": [
       "array([[0],\n",
       "       [1],\n",
       "       [0],\n",
       "       ...,\n",
       "       [0],\n",
       "       [1],\n",
       "       [0]], dtype=int32)"
      ]
     },
     "execution_count": 31,
     "metadata": {},
     "output_type": "execute_result"
    }
   ],
   "source": [
    "y_pred"
   ]
  },
  {
   "cell_type": "code",
   "execution_count": 32,
   "id": "df7fda46",
   "metadata": {
    "execution": {
     "iopub.execute_input": "2023-08-10T17:43:25.554159Z",
     "iopub.status.busy": "2023-08-10T17:43:25.553454Z",
     "iopub.status.idle": "2023-08-10T17:43:25.578690Z",
     "shell.execute_reply": "2023-08-10T17:43:25.577439Z"
    },
    "papermill": {
     "duration": 0.176035,
     "end_time": "2023-08-10T17:43:25.581524",
     "exception": false,
     "start_time": "2023-08-10T17:43:25.405489",
     "status": "completed"
    },
    "tags": []
   },
   "outputs": [],
   "source": [
    "final_sub = pd.DataFrame()\n",
    "final_sub['id']=df1['id']\n",
    "final_sub['label'] = y_pred\n",
    "final_sub.to_csv('final_sub.csv',index=False)"
   ]
  },
  {
   "cell_type": "code",
   "execution_count": 33,
   "id": "cc99c870",
   "metadata": {
    "execution": {
     "iopub.execute_input": "2023-08-10T17:43:25.868279Z",
     "iopub.status.busy": "2023-08-10T17:43:25.867095Z",
     "iopub.status.idle": "2023-08-10T17:43:25.877226Z",
     "shell.execute_reply": "2023-08-10T17:43:25.876099Z"
    },
    "papermill": {
     "duration": 0.156097,
     "end_time": "2023-08-10T17:43:25.879698",
     "exception": false,
     "start_time": "2023-08-10T17:43:25.723601",
     "status": "completed"
    },
    "tags": []
   },
   "outputs": [
    {
     "data": {
      "text/html": [
       "<div>\n",
       "<style scoped>\n",
       "    .dataframe tbody tr th:only-of-type {\n",
       "        vertical-align: middle;\n",
       "    }\n",
       "\n",
       "    .dataframe tbody tr th {\n",
       "        vertical-align: top;\n",
       "    }\n",
       "\n",
       "    .dataframe thead th {\n",
       "        text-align: right;\n",
       "    }\n",
       "</style>\n",
       "<table border=\"1\" class=\"dataframe\">\n",
       "  <thead>\n",
       "    <tr style=\"text-align: right;\">\n",
       "      <th></th>\n",
       "      <th>id</th>\n",
       "      <th>label</th>\n",
       "    </tr>\n",
       "  </thead>\n",
       "  <tbody>\n",
       "    <tr>\n",
       "      <th>0</th>\n",
       "      <td>20800</td>\n",
       "      <td>0</td>\n",
       "    </tr>\n",
       "    <tr>\n",
       "      <th>1</th>\n",
       "      <td>20801</td>\n",
       "      <td>1</td>\n",
       "    </tr>\n",
       "    <tr>\n",
       "      <th>2</th>\n",
       "      <td>20802</td>\n",
       "      <td>0</td>\n",
       "    </tr>\n",
       "    <tr>\n",
       "      <th>3</th>\n",
       "      <td>20803</td>\n",
       "      <td>0</td>\n",
       "    </tr>\n",
       "    <tr>\n",
       "      <th>4</th>\n",
       "      <td>20804</td>\n",
       "      <td>1</td>\n",
       "    </tr>\n",
       "  </tbody>\n",
       "</table>\n",
       "</div>"
      ],
      "text/plain": [
       "      id  label\n",
       "0  20800      0\n",
       "1  20801      1\n",
       "2  20802      0\n",
       "3  20803      0\n",
       "4  20804      1"
      ]
     },
     "execution_count": 33,
     "metadata": {},
     "output_type": "execute_result"
    }
   ],
   "source": [
    "final_sub.head()"
   ]
  },
  {
   "cell_type": "code",
   "execution_count": null,
   "id": "6d93b1eb",
   "metadata": {
    "papermill": {
     "duration": 0.145619,
     "end_time": "2023-08-10T17:43:26.169470",
     "exception": false,
     "start_time": "2023-08-10T17:43:26.023851",
     "status": "completed"
    },
    "tags": []
   },
   "outputs": [],
   "source": []
  }
 ],
 "metadata": {
  "kernelspec": {
   "display_name": "Python 3",
   "language": "python",
   "name": "python3"
  },
  "language_info": {
   "codemirror_mode": {
    "name": "ipython",
    "version": 3
   },
   "file_extension": ".py",
   "mimetype": "text/x-python",
   "name": "python",
   "nbconvert_exporter": "python",
   "pygments_lexer": "ipython3",
   "version": "3.10.12"
  },
  "papermill": {
   "default_parameters": {},
   "duration": 233.918563,
   "end_time": "2023-08-10T17:43:29.238027",
   "environment_variables": {},
   "exception": null,
   "input_path": "__notebook__.ipynb",
   "output_path": "__notebook__.ipynb",
   "parameters": {},
   "start_time": "2023-08-10T17:39:35.319464",
   "version": "2.4.0"
  }
 },
 "nbformat": 4,
 "nbformat_minor": 5
}
